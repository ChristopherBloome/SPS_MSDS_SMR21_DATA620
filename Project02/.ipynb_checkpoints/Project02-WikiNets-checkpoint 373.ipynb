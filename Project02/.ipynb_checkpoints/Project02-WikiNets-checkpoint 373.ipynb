{
 "cells": [
  {
   "cell_type": "markdown",
   "id": "987da827-1567-4f01-806f-687b66c830b4",
   "metadata": {},
   "source": [
    "<b>Web Analytics DATA 620 - Project 02</b>\n",
    "\n",
    "<b>Assignment: “Wiki Publishing”</b>\n",
    "\n",
    "<b>Group - Chris Bloome / Mustafa Telab / Vinayak Kamath</b>\n",
    "\n",
    "<b>Date - 24th June 2021</b>\n",
    "\n",
    "--- \n",
    "\n",
    "\n",
    "Identify a large 2-node network dataset—you can start with a dataset in a repository.  Your data should meet the criteria that it consists of ties between and not within two (or more) distinct groups.\n",
    "Reduce the size of the network using a method such as the island method described in chapter 4 of social network analysis.\n",
    "What can you infer about each of the distinct groups?"
   ]
  },
  {
   "cell_type": "markdown",
   "id": "707c847e-9c1d-4ba9-b7e0-83c62ab97742",
   "metadata": {},
   "source": [
    "---"
   ]
  },
  {
   "cell_type": "markdown",
   "id": "460459d2-0644-4a9a-8e00-82b82dff0578",
   "metadata": {},
   "source": [
    "<b>Wikipedia User Publishing</b>\n",
    "\n"
   ]
  },
  {
   "cell_type": "markdown",
   "id": "117c592a-0fec-4800-808f-8fe55a34b19b",
   "metadata": {},
   "source": [
    "The source of the data is http://networkrepository.com/ia-wiki-user-edits-page.php#\n",
    "\n",
    "The data is a collection of edges that represent users and wikipedia pages; while the edges represent a edit events.\n",
    "\n",
    " - User\n",
    " - Web page\n",
    " - Weight\n",
    " - Time Stamp"
   ]
  },
  {
   "cell_type": "markdown",
   "id": "7e2782f8-bd35-4ee5-960f-fd731a2fcb6a",
   "metadata": {},
   "source": [
    "---"
   ]
  },
  {
   "cell_type": "code",
   "execution_count": 2,
   "id": "fdc62764",
   "metadata": {},
   "outputs": [],
   "source": [
    "# Import required libraries\n",
    "import networkx as nx\n",
    "import networkx.algorithms.bipartite as bipartite\n",
    "import matplotlib.pyplot as plt\n",
    "import pandas as pd\n",
    "import numpy as np\n",
    "import matplotlib.pyplot as plt\n",
    "from pyvis.network import Network\n",
    "from datetime import datetime\n",
    "from scipy.stats import zscore"
   ]
  },
  {
   "cell_type": "code",
   "execution_count": 3,
   "id": "d836a4d2",
   "metadata": {},
   "outputs": [],
   "source": [
    "df = pd.read_csv('ia-wiki-user-edits-page.edges', sep = ' ',header = None, names = ['source','target','weight','time'])"
   ]
  },
  {
   "cell_type": "code",
   "execution_count": 4,
   "id": "4b6af6c2",
   "metadata": {},
   "outputs": [],
   "source": [
    "#df['hour'] = [int(datetime.utcfromtimestamp(v).strftime('%H')), for v in df['time']]\n",
    "#df['month'] = [int(datetime.utcfromtimestamp(v).strftime('%m')) for v in df['time']]\n",
    "#df['year'] = [int(datetime.utcfromtimestamp(v).strftime('%Y')) for v in df['time']]\n",
    "df['date'] = [datetime.utcfromtimestamp(v).strftime('%Y-%m-%d') for v in df['time']]"
   ]
  },
  {
   "cell_type": "code",
   "execution_count": 5,
   "id": "b070ca72",
   "metadata": {},
   "outputs": [],
   "source": [
    "df['hour'] = pd.to_datetime(df['date']).dt.strftime(\"%H\")"
   ]
  },
  {
   "cell_type": "code",
   "execution_count": 6,
   "id": "e98315c0",
   "metadata": {},
   "outputs": [],
   "source": [
    "df['source'] = ['u'+ str(v) for v in df['source']]\n",
    "df['target'] = ['p'+ str(v) for v in df['target']]"
   ]
  },
  {
   "cell_type": "code",
   "execution_count": 72,
   "id": "1f1e5c1b",
   "metadata": {},
   "outputs": [],
   "source": [
    "df['date'] = pd.to_datetime(df['date'])\n",
    "maxyear = df['date'].dt.year.max()"
   ]
  },
  {
   "cell_type": "code",
   "execution_count": 74,
   "id": "7beb85b8",
   "metadata": {},
   "outputs": [
    {
     "name": "stdout",
     "output_type": "stream",
     "text": [
      "1873945\n"
     ]
    }
   ],
   "source": [
    "df = df[df['date'].dt.year == maxyear]\n",
    "print(len(df))"
   ]
  },
  {
   "cell_type": "code",
   "execution_count": 75,
   "id": "b08bd067",
   "metadata": {},
   "outputs": [],
   "source": [
    "u198 = df[df['source']=='u198'].groupby('date').aggregate({('weight'):np.sum}).sort_values(by = 'date', ascending = True).reset_index()"
   ]
  },
  {
   "cell_type": "code",
   "execution_count": 76,
   "id": "bdfabeca",
   "metadata": {},
   "outputs": [],
   "source": [
    "u198['date'] = pd.to_datetime(u198['date'], format = '%Y-%m-%d')\n",
    "r = pd.date_range(start= u198.date.min(), end = u198.date.max())\n",
    "u198 = u198.set_index('date').reindex(r, fill_value=0)#.reindex(r)#.fillna(0).rename_axis('date').reset_index()"
   ]
  },
  {
   "cell_type": "code",
   "execution_count": 77,
   "id": "ebf7d4df",
   "metadata": {},
   "outputs": [
    {
     "name": "stderr",
     "output_type": "stream",
     "text": [
      "/Users/mustafatelab/opt/anaconda3/envs/sps620env/lib/python3.7/site-packages/matplotlib/cbook/__init__.py:2064: FutureWarning: Support for multi-dimensional indexing (e.g. `obj[:, None]`) is deprecated and will be removed in a future version.  Convert to a numpy array before indexing instead.\n",
      "  x[:, None]\n",
      "/Users/mustafatelab/opt/anaconda3/envs/sps620env/lib/python3.7/site-packages/matplotlib/axes/_base.py:248: FutureWarning: Support for multi-dimensional indexing (e.g. `obj[:, None]`) is deprecated and will be removed in a future version.  Convert to a numpy array before indexing instead.\n",
      "  x = x[:, np.newaxis]\n",
      "/Users/mustafatelab/opt/anaconda3/envs/sps620env/lib/python3.7/site-packages/matplotlib/axes/_base.py:250: FutureWarning: Support for multi-dimensional indexing (e.g. `obj[:, None]`) is deprecated and will be removed in a future version.  Convert to a numpy array before indexing instead.\n",
      "  y = y[:, np.newaxis]\n"
     ]
    },
    {
     "data": {
      "image/png": "[encoded data removed]",
      "text/plain": [
       "<Figure size 432x288 with 1 Axes>"
      ]
     },
     "metadata": {
      "needs_background": "light"
     },
     "output_type": "display_data"
    }
   ],
   "source": [
    "plt.plot(r,pd.Series(u198['weight']).cumsum())\n",
    "plt.xticks([min(r), max(r)])\n",
    "plt.show()"
   ]
  },
  {
   "cell_type": "code",
   "execution_count": 78,
   "id": "f26d19b3",
   "metadata": {},
   "outputs": [],
   "source": [
    "df_frequency_step = df.groupby(['source','date']).aggregate({('weight'):np.sum}).sort_values('weight').reset_index()"
   ]
  },
  {
   "cell_type": "code",
   "execution_count": 79,
   "id": "9265b0f9",
   "metadata": {},
   "outputs": [],
   "source": [
    "df_frequency = df_frequency_step.groupby(['source']).aggregate({('weight'):np.average}).sort_values('weight').reset_index()"
   ]
  },
  {
   "cell_type": "code",
   "execution_count": 80,
   "id": "5334160b",
   "metadata": {},
   "outputs": [
    {
     "data": {
      "text/html": [
       "<div>\n",
       "<style scoped>\n",
       "    .dataframe tbody tr th:only-of-type {\n",
       "        vertical-align: middle;\n",
       "    }\n",
       "\n",
       "    .dataframe tbody tr th {\n",
       "        vertical-align: top;\n",
       "    }\n",
       "\n",
       "    .dataframe thead th {\n",
       "        text-align: right;\n",
       "    }\n",
       "</style>\n",
       "<table border=\"1\" class=\"dataframe\">\n",
       "  <thead>\n",
       "    <tr style=\"text-align: right;\">\n",
       "      <th></th>\n",
       "      <th>source</th>\n",
       "      <th>frequency</th>\n",
       "    </tr>\n",
       "  </thead>\n",
       "  <tbody>\n",
       "    <tr>\n",
       "      <th>0</th>\n",
       "      <td>u9999</td>\n",
       "      <td>1.000000</td>\n",
       "    </tr>\n",
       "    <tr>\n",
       "      <th>1</th>\n",
       "      <td>u20535</td>\n",
       "      <td>1.000000</td>\n",
       "    </tr>\n",
       "    <tr>\n",
       "      <th>2</th>\n",
       "      <td>u20537</td>\n",
       "      <td>1.000000</td>\n",
       "    </tr>\n",
       "    <tr>\n",
       "      <th>3</th>\n",
       "      <td>u20544</td>\n",
       "      <td>1.000000</td>\n",
       "    </tr>\n",
       "    <tr>\n",
       "      <th>4</th>\n",
       "      <td>u29112</td>\n",
       "      <td>1.000000</td>\n",
       "    </tr>\n",
       "    <tr>\n",
       "      <th>...</th>\n",
       "      <td>...</td>\n",
       "      <td>...</td>\n",
       "    </tr>\n",
       "    <tr>\n",
       "      <th>5158</th>\n",
       "      <td>u1405</td>\n",
       "      <td>889.338710</td>\n",
       "    </tr>\n",
       "    <tr>\n",
       "      <th>5159</th>\n",
       "      <td>u198</td>\n",
       "      <td>1603.626556</td>\n",
       "    </tr>\n",
       "    <tr>\n",
       "      <th>5160</th>\n",
       "      <td>u18229</td>\n",
       "      <td>2388.636364</td>\n",
       "    </tr>\n",
       "    <tr>\n",
       "      <th>5161</th>\n",
       "      <td>u232</td>\n",
       "      <td>2647.189189</td>\n",
       "    </tr>\n",
       "    <tr>\n",
       "      <th>5162</th>\n",
       "      <td>u680</td>\n",
       "      <td>13261.375000</td>\n",
       "    </tr>\n",
       "  </tbody>\n",
       "</table>\n",
       "<p>5163 rows × 2 columns</p>\n",
       "</div>"
      ],
      "text/plain": [
       "      source     frequency\n",
       "0      u9999      1.000000\n",
       "1     u20535      1.000000\n",
       "2     u20537      1.000000\n",
       "3     u20544      1.000000\n",
       "4     u29112      1.000000\n",
       "...      ...           ...\n",
       "5158   u1405    889.338710\n",
       "5159    u198   1603.626556\n",
       "5160  u18229   2388.636364\n",
       "5161    u232   2647.189189\n",
       "5162    u680  13261.375000\n",
       "\n",
       "[5163 rows x 2 columns]"
      ]
     },
     "execution_count": 80,
     "metadata": {},
     "output_type": "execute_result"
    }
   ],
   "source": [
    "df_frequency.columns = ['source', 'frequency']\n",
    "df_frequency"
   ]
  },
  {
   "cell_type": "code",
   "execution_count": 81,
   "id": "24b156a1",
   "metadata": {},
   "outputs": [
    {
     "data": {
      "image/png": "[encoded data removed]",
      "text/plain": [
       "<Figure size 432x288 with 1 Axes>"
      ]
     },
     "metadata": {
      "needs_background": "light"
     },
     "output_type": "display_data"
    }
   ],
   "source": [
    "plt.hist(df_frequency['frequency'], bins = 100 )\n",
    "plt.yscale('log')\n",
    "plt.show()"
   ]
  },
  {
   "cell_type": "code",
   "execution_count": 82,
   "id": "68e083c4",
   "metadata": {},
   "outputs": [
    {
     "name": "stderr",
     "output_type": "stream",
     "text": [
      "/Users/mustafatelab/opt/anaconda3/envs/sps620env/lib/python3.7/site-packages/pandas/core/indexes/range.py:780: FutureWarning: Support for multi-dimensional indexing (e.g. `obj[:, None]`) is deprecated and will be removed in a future version.  Convert to a numpy array before indexing instead.\n",
      "  return super().__getitem__(key)\n",
      "/Users/mustafatelab/opt/anaconda3/envs/sps620env/lib/python3.7/site-packages/matplotlib/cbook/__init__.py:2064: FutureWarning: Support for multi-dimensional indexing (e.g. `obj[:, None]`) is deprecated and will be removed in a future version.  Convert to a numpy array before indexing instead.\n",
      "  x[:, None]\n",
      "/Users/mustafatelab/opt/anaconda3/envs/sps620env/lib/python3.7/site-packages/matplotlib/axes/_base.py:250: FutureWarning: Support for multi-dimensional indexing (e.g. `obj[:, None]`) is deprecated and will be removed in a future version.  Convert to a numpy array before indexing instead.\n",
      "  y = y[:, np.newaxis]\n"
     ]
    },
    {
     "data": {
      "image/png": "[encoded data removed]",
      "text/plain": [
       "<Figure size 432x288 with 1 Axes>"
      ]
     },
     "metadata": {
      "needs_background": "light"
     },
     "output_type": "display_data"
    }
   ],
   "source": [
    "plt.plot(df_frequency.index, df_frequency.frequency)\n",
    "plt.show()"
   ]
  },
  {
   "cell_type": "code",
   "execution_count": 83,
   "id": "633a9134",
   "metadata": {},
   "outputs": [],
   "source": [
    "df_grouped = df.groupby(['source','target']).aggregate({('weight'):np.sum}).reset_index()\n",
    "#,('date'):np.average,('month'):np.average"
   ]
  },
  {
   "cell_type": "code",
   "execution_count": 84,
   "id": "62b06802",
   "metadata": {},
   "outputs": [],
   "source": [
    "u_count = df_grouped['source'].value_counts(ascending=True).rename_axis('source').reset_index(name='pages')\n",
    "p_count = df_grouped['target'].value_counts(ascending=True).rename_axis('target').reset_index(name='users')"
   ]
  },
  {
   "cell_type": "code",
   "execution_count": 85,
   "id": "4f54cda5",
   "metadata": {},
   "outputs": [
    {
     "data": {
      "text/html": [
       "<div>\n",
       "<style scoped>\n",
       "    .dataframe tbody tr th:only-of-type {\n",
       "        vertical-align: middle;\n",
       "    }\n",
       "\n",
       "    .dataframe tbody tr th {\n",
       "        vertical-align: top;\n",
       "    }\n",
       "\n",
       "    .dataframe thead th {\n",
       "        text-align: right;\n",
       "    }\n",
       "</style>\n",
       "<table border=\"1\" class=\"dataframe\">\n",
       "  <thead>\n",
       "    <tr style=\"text-align: right;\">\n",
       "      <th></th>\n",
       "      <th>target</th>\n",
       "      <th>users</th>\n",
       "    </tr>\n",
       "  </thead>\n",
       "  <tbody>\n",
       "    <tr>\n",
       "      <th>0</th>\n",
       "      <td>p1360075</td>\n",
       "      <td>1</td>\n",
       "    </tr>\n",
       "    <tr>\n",
       "      <th>1</th>\n",
       "      <td>p1693336</td>\n",
       "      <td>1</td>\n",
       "    </tr>\n",
       "    <tr>\n",
       "      <th>2</th>\n",
       "      <td>p1577044</td>\n",
       "      <td>1</td>\n",
       "    </tr>\n",
       "    <tr>\n",
       "      <th>3</th>\n",
       "      <td>p1458539</td>\n",
       "      <td>1</td>\n",
       "    </tr>\n",
       "    <tr>\n",
       "      <th>4</th>\n",
       "      <td>p1150526</td>\n",
       "      <td>1</td>\n",
       "    </tr>\n",
       "    <tr>\n",
       "      <th>...</th>\n",
       "      <td>...</td>\n",
       "      <td>...</td>\n",
       "    </tr>\n",
       "    <tr>\n",
       "      <th>1022339</th>\n",
       "      <td>p1936168</td>\n",
       "      <td>108</td>\n",
       "    </tr>\n",
       "    <tr>\n",
       "      <th>1022340</th>\n",
       "      <td>p590</td>\n",
       "      <td>121</td>\n",
       "    </tr>\n",
       "    <tr>\n",
       "      <th>1022341</th>\n",
       "      <td>p117268</td>\n",
       "      <td>128</td>\n",
       "    </tr>\n",
       "    <tr>\n",
       "      <th>1022342</th>\n",
       "      <td>p183627</td>\n",
       "      <td>135</td>\n",
       "    </tr>\n",
       "    <tr>\n",
       "      <th>1022343</th>\n",
       "      <td>p348358</td>\n",
       "      <td>140</td>\n",
       "    </tr>\n",
       "  </tbody>\n",
       "</table>\n",
       "<p>1022344 rows × 2 columns</p>\n",
       "</div>"
      ],
      "text/plain": [
       "           target  users\n",
       "0        p1360075      1\n",
       "1        p1693336      1\n",
       "2        p1577044      1\n",
       "3        p1458539      1\n",
       "4        p1150526      1\n",
       "...           ...    ...\n",
       "1022339  p1936168    108\n",
       "1022340      p590    121\n",
       "1022341   p117268    128\n",
       "1022342   p183627    135\n",
       "1022343   p348358    140\n",
       "\n",
       "[1022344 rows x 2 columns]"
      ]
     },
     "execution_count": 85,
     "metadata": {},
     "output_type": "execute_result"
    }
   ],
   "source": [
    "p_count"
   ]
  },
  {
   "cell_type": "code",
   "execution_count": 86,
   "id": "36059e74",
   "metadata": {},
   "outputs": [
    {
     "data": {
      "text/html": [
       "<div>\n",
       "<style scoped>\n",
       "    .dataframe tbody tr th:only-of-type {\n",
       "        vertical-align: middle;\n",
       "    }\n",
       "\n",
       "    .dataframe tbody tr th {\n",
       "        vertical-align: top;\n",
       "    }\n",
       "\n",
       "    .dataframe thead th {\n",
       "        text-align: right;\n",
       "    }\n",
       "</style>\n",
       "<table border=\"1\" class=\"dataframe\">\n",
       "  <thead>\n",
       "    <tr style=\"text-align: right;\">\n",
       "      <th></th>\n",
       "      <th>source</th>\n",
       "      <th>pages</th>\n",
       "    </tr>\n",
       "  </thead>\n",
       "  <tbody>\n",
       "    <tr>\n",
       "      <th>0</th>\n",
       "      <td>u19136</td>\n",
       "      <td>1</td>\n",
       "    </tr>\n",
       "    <tr>\n",
       "      <th>1</th>\n",
       "      <td>u19146</td>\n",
       "      <td>1</td>\n",
       "    </tr>\n",
       "    <tr>\n",
       "      <th>2</th>\n",
       "      <td>u5419</td>\n",
       "      <td>1</td>\n",
       "    </tr>\n",
       "    <tr>\n",
       "      <th>3</th>\n",
       "      <td>u28504</td>\n",
       "      <td>1</td>\n",
       "    </tr>\n",
       "    <tr>\n",
       "      <th>4</th>\n",
       "      <td>u20119</td>\n",
       "      <td>1</td>\n",
       "    </tr>\n",
       "    <tr>\n",
       "      <th>...</th>\n",
       "      <td>...</td>\n",
       "      <td>...</td>\n",
       "    </tr>\n",
       "    <tr>\n",
       "      <th>5158</th>\n",
       "      <td>u232</td>\n",
       "      <td>88549</td>\n",
       "    </tr>\n",
       "    <tr>\n",
       "      <th>5159</th>\n",
       "      <td>u193</td>\n",
       "      <td>111403</td>\n",
       "    </tr>\n",
       "    <tr>\n",
       "      <th>5160</th>\n",
       "      <td>u845</td>\n",
       "      <td>134132</td>\n",
       "    </tr>\n",
       "    <tr>\n",
       "      <th>5161</th>\n",
       "      <td>u680</td>\n",
       "      <td>212041</td>\n",
       "    </tr>\n",
       "    <tr>\n",
       "      <th>5162</th>\n",
       "      <td>u198</td>\n",
       "      <td>304980</td>\n",
       "    </tr>\n",
       "  </tbody>\n",
       "</table>\n",
       "<p>5163 rows × 2 columns</p>\n",
       "</div>"
      ],
      "text/plain": [
       "      source   pages\n",
       "0     u19136       1\n",
       "1     u19146       1\n",
       "2      u5419       1\n",
       "3     u28504       1\n",
       "4     u20119       1\n",
       "...      ...     ...\n",
       "5158    u232   88549\n",
       "5159    u193  111403\n",
       "5160    u845  134132\n",
       "5161    u680  212041\n",
       "5162    u198  304980\n",
       "\n",
       "[5163 rows x 2 columns]"
      ]
     },
     "execution_count": 86,
     "metadata": {},
     "output_type": "execute_result"
    }
   ],
   "source": [
    "u_count"
   ]
  },
  {
   "cell_type": "code",
   "execution_count": 87,
   "id": "55a7a3de",
   "metadata": {},
   "outputs": [],
   "source": [
    "df_grouped = pd.merge(df_grouped, u_count, how=\"left\", on=\"source\")\n",
    "df_grouped = pd.merge(df_grouped, p_count, how=\"left\", on=\"target\")\n",
    "df_grouped = pd.merge(df_grouped, df_frequency, how=\"left\", on=\"source\")"
   ]
  },
  {
   "cell_type": "code",
   "execution_count": 88,
   "id": "2b367fca",
   "metadata": {},
   "outputs": [
    {
     "name": "stdout",
     "output_type": "stream",
     "text": [
      "Pages Per User Statisitics\n",
      "count      5163.00\n",
      "mean        292.04\n",
      "std        6012.43\n",
      "min           1.00\n",
      "25%           1.00\n",
      "50%           1.00\n",
      "75%           4.00\n",
      "max      304980.00\n",
      "Name: pages, dtype: float64 \n",
      "\n",
      "Users Per Page Statisitics\n",
      "count    1022344.00\n",
      "mean           1.47\n",
      "std            1.11\n",
      "min            1.00\n",
      "25%            1.00\n",
      "50%            1.00\n",
      "75%            2.00\n",
      "max          140.00\n",
      "Name: users, dtype: float64 \n",
      "\n",
      "Edit Daily Frequency Statisitics\n",
      "count     5163.00\n",
      "mean         8.15\n",
      "std        193.70\n",
      "min          1.00\n",
      "25%          1.00\n",
      "50%          1.40\n",
      "75%          2.71\n",
      "max      13261.38\n",
      "Name: frequency, dtype: float64\n"
     ]
    }
   ],
   "source": [
    "user_stats = u_count[\"pages\"].describe().round(2)\n",
    "page_stats = p_count[\"users\"].describe().round(2)\n",
    "freq_stats = df_frequency[\"frequency\"].describe().round(2)\n",
    "print('Pages Per User Statisitics')\n",
    "print(user_stats, '\\n')\n",
    "print('Users Per Page Statisitics')\n",
    "print(page_stats, '\\n')\n",
    "print('Edit Daily Frequency Statisitics')\n",
    "print(freq_stats)"
   ]
  },
  {
   "cell_type": "code",
   "execution_count": 89,
   "id": "897f2580",
   "metadata": {},
   "outputs": [
    {
     "data": {
      "image/png": "[encoded data removed]",
      "text/plain": [
       "<Figure size 432x288 with 1 Axes>"
      ]
     },
     "metadata": {
      "needs_background": "light"
     },
     "output_type": "display_data"
    }
   ],
   "source": [
    "plt.hist(u_count['pages'], bins = 10)\n",
    "plt.title('Pages Per User Statisitics')\n",
    "plt.yscale('log')"
   ]
  },
  {
   "cell_type": "code",
   "execution_count": 90,
   "id": "82678bec",
   "metadata": {},
   "outputs": [
    {
     "data": {
      "image/png": "[encoded data removed]",
      "text/plain": [
       "<Figure size 432x288 with 1 Axes>"
      ]
     },
     "metadata": {
      "needs_background": "light"
     },
     "output_type": "display_data"
    }
   ],
   "source": [
    "plt.hist(p_count['users'], bins = 30)\n",
    "plt.title('Users Per Page Statisitics')\n",
    "plt.yscale('log')"
   ]
  },
  {
   "cell_type": "code",
   "execution_count": 91,
   "id": "2137efbd",
   "metadata": {},
   "outputs": [
    {
     "name": "stdout",
     "output_type": "stream",
     "text": [
      "1507809\n",
      "  source    target  weight  pages  users  frequency\n",
      "0    u10   p151715       1     11      4      1.875\n",
      "1    u10    p15829       2     11      2      1.875\n",
      "2    u10  p1668464       9     11      3      1.875\n",
      "3    u10   p348358       4     11    140      1.875\n",
      "4    u10    p35699       1     11     13      1.875\n"
     ]
    }
   ],
   "source": [
    "print(len(df_grouped))\n",
    "print(df_grouped.head())"
   ]
  },
  {
   "cell_type": "code",
   "execution_count": 92,
   "id": "8e52981b",
   "metadata": {},
   "outputs": [
    {
     "data": {
      "text/plain": [
       "249731"
      ]
     },
     "execution_count": 92,
     "metadata": {},
     "output_type": "execute_result"
    }
   ],
   "source": [
    "freq_std = freq_stats['std']\n",
    "user_min = user_stats['75%']\n",
    "page_min = page_stats['75%']\n",
    "df_island = df_grouped[(df_grouped['pages']>user_min)  & (df_grouped['users']>page_min) & (df_grouped['frequency'] < (freq_std * 5))]\n",
    "len(df_island)"
   ]
  },
  {
   "cell_type": "code",
   "execution_count": 93,
   "id": "c97d3788",
   "metadata": {},
   "outputs": [],
   "source": [
    "S = nx.from_pandas_edgelist(df_island, source='source', target='target', edge_attr=[\"weight\"], create_using = nx.DiGraph(), edge_key=None)"
   ]
  },
  {
   "cell_type": "code",
   "execution_count": 94,
   "id": "d3e6eeb0",
   "metadata": {},
   "outputs": [
    {
     "name": "stdout",
     "output_type": "stream",
     "text": [
      "Name: \n",
      "Type: DiGraph\n",
      "Number of nodes: 85611\n",
      "Number of edges: 249731\n",
      "Average in degree:   2.9170\n",
      "Average out degree:   2.9170\n"
     ]
    }
   ],
   "source": [
    "print(nx.info(S))"
   ]
  },
  {
   "cell_type": "code",
   "execution_count": 95,
   "id": "05cdaeda",
   "metadata": {},
   "outputs": [
    {
     "data": {
      "text/plain": [
       "1"
      ]
     },
     "execution_count": 95,
     "metadata": {},
     "output_type": "execute_result"
    }
   ],
   "source": [
    "len(list(nx.connected_components(S.to_undirected())))"
   ]
  },
  {
   "cell_type": "code",
   "execution_count": 101,
   "id": "c985f9bf",
   "metadata": {},
   "outputs": [
    {
     "data": {
      "text/plain": [
       "1092"
      ]
     },
     "execution_count": 101,
     "metadata": {},
     "output_type": "execute_result"
    }
   ],
   "source": [
    "users = [v for v in S.nodes() if v[0]== 'u']\n",
    "len(users)"
   ]
  },
  {
   "cell_type": "code",
   "execution_count": 102,
   "id": "3f30cf65",
   "metadata": {},
   "outputs": [
    {
     "data": {
      "text/plain": [
       "84519"
      ]
     },
     "execution_count": 102,
     "metadata": {},
     "output_type": "execute_result"
    }
   ],
   "source": [
    "pages = [v for v in S.nodes() if v[0]== 'p']\n",
    "len(pages)"
   ]
  },
  {
   "cell_type": "code",
   "execution_count": 109,
   "id": "607b043c",
   "metadata": {},
   "outputs": [],
   "source": [
    "#P = bipartite.projected_graph(S.to_undirected(), pages)"
   ]
  },
  {
   "cell_type": "code",
   "execution_count": 103,
   "id": "53c60e9d",
   "metadata": {},
   "outputs": [],
   "source": [
    "U = bipartite.projected_graph(S.to_undirected(), users)"
   ]
  },
  {
   "cell_type": "code",
   "execution_count": 110,
   "id": "9e5e0f09",
   "metadata": {},
   "outputs": [
    {
     "name": "stdout",
     "output_type": "stream",
     "text": [
      "Name: \n",
      "Type: Graph\n",
      "Number of nodes: 1092\n",
      "Number of edges: 59775\n",
      "Average degree: 109.4780\n"
     ]
    }
   ],
   "source": [
    "print(nx.info(U))"
   ]
  },
  {
   "cell_type": "code",
   "execution_count": 111,
   "id": "3edad031",
   "metadata": {},
   "outputs": [
    {
     "data": {
      "text/plain": [
       "[('u193', 0.9184234647112741),\n",
       " ('u203', 0.8652612282309807),\n",
       " ('u134', 0.8075160403299725),\n",
       " ('u25', 0.7341888175985335),\n",
       " ('u239', 0.7222731439046747),\n",
       " ('u333', 0.7048579285059579),\n",
       " ('u106', 0.6691109074243813),\n",
       " ('u83', 0.6553620531622365),\n",
       " ('u240', 0.6443629697525206),\n",
       " ('u79', 0.6379468377635197)]"
      ]
     },
     "execution_count": 111,
     "metadata": {},
     "output_type": "execute_result"
    }
   ],
   "source": [
    "sorted(nx.degree_centrality(U).items(), key=lambda x: x[1], reverse=True)[:10]"
   ]
  },
  {
   "cell_type": "code",
   "execution_count": 112,
   "id": "2e9e97f7",
   "metadata": {},
   "outputs": [
    {
     "data": {
      "text/plain": [
       "[('u193', 1002),\n",
       " ('u203', 944),\n",
       " ('u134', 881),\n",
       " ('u25', 801),\n",
       " ('u239', 788),\n",
       " ('u333', 769),\n",
       " ('u106', 730),\n",
       " ('u83', 715),\n",
       " ('u240', 703),\n",
       " ('u79', 696)]"
      ]
     },
     "execution_count": 112,
     "metadata": {},
     "output_type": "execute_result"
    }
   ],
   "source": [
    "sorted(dict(U.to_undirected().degree()).items(), key=lambda x: x[1], reverse=True)[:10]"
   ]
  },
  {
   "cell_type": "code",
   "execution_count": 113,
   "id": "73522c3a",
   "metadata": {},
   "outputs": [
    {
     "data": {
      "text/plain": [
       "[('u134', 0.09340336731347809),\n",
       " ('u193', 0.09255061273093777),\n",
       " ('u203', 0.09099597505856727),\n",
       " ('u25', 0.09075453030227688),\n",
       " ('u239', 0.09046800680651776),\n",
       " ('u333', 0.0896613437121025),\n",
       " ('u106', 0.08914981227607732),\n",
       " ('u240', 0.08799379721899583),\n",
       " ('u83', 0.08776248430376145),\n",
       " ('u79', 0.08761221274741664)]"
      ]
     },
     "execution_count": 113,
     "metadata": {},
     "output_type": "execute_result"
    }
   ],
   "source": [
    "sorted(dict(nx.eigenvector_centrality(U)).items(), key=lambda x: x[1], reverse=True)[:10]"
   ]
  },
  {
   "cell_type": "code",
   "execution_count": 114,
   "id": "31e447ab",
   "metadata": {},
   "outputs": [
    {
     "name": "stdout",
     "output_type": "stream",
     "text": [
      "0.10034649127224746\n",
      "True\n"
     ]
    }
   ],
   "source": [
    "density = nx.density(U)\n",
    "print(density)\n",
    "print(nx.is_connected(U.to_undirected()))"
   ]
  },
  {
   "cell_type": "code",
   "execution_count": 115,
   "id": "a929b1a4",
   "metadata": {},
   "outputs": [
    {
     "data": {
      "text/plain": [
       "(array([446., 152., 117.,  91.,  65.,  41.,  30.,  28.,  29.,  16.,  11.,\n",
       "          9.,   5.,   6.,   7.,  10.,   3.,   4.,   7.,   4.,   2.,   3.,\n",
       "          0.,   3.,   0.,   0.,   1.,   0.,   1.,   1.]),\n",
       " array([1.00000000e+00, 3.43666667e+01, 6.77333333e+01, 1.01100000e+02,\n",
       "        1.34466667e+02, 1.67833333e+02, 2.01200000e+02, 2.34566667e+02,\n",
       "        2.67933333e+02, 3.01300000e+02, 3.34666667e+02, 3.68033333e+02,\n",
       "        4.01400000e+02, 4.34766667e+02, 4.68133333e+02, 5.01500000e+02,\n",
       "        5.34866667e+02, 5.68233333e+02, 6.01600000e+02, 6.34966667e+02,\n",
       "        6.68333333e+02, 7.01700000e+02, 7.35066667e+02, 7.68433333e+02,\n",
       "        8.01800000e+02, 8.35166667e+02, 8.68533333e+02, 9.01900000e+02,\n",
       "        9.35266667e+02, 9.68633333e+02, 1.00200000e+03]),\n",
       " <a list of 30 Patch objects>)"
      ]
     },
     "execution_count": 115,
     "metadata": {},
     "output_type": "execute_result"
    },
    {
     "data": {
      "image/png": "[encoded data removed]",
      "text/plain": [
       "<Figure size 432x288 with 1 Axes>"
      ]
     },
     "metadata": {
      "needs_background": "light"
     },
     "output_type": "display_data"
    }
   ],
   "source": [
    "U_degrees = dict(U.degree()).values()\n",
    "plt.hist(U_degrees, bins = 30)"
   ]
  },
  {
   "cell_type": "code",
   "execution_count": null,
   "id": "9075f36d",
   "metadata": {},
   "outputs": [
    {
     "data": {
      "image/png": "[encoded data removed]",
      "text/plain": [
       "<Figure size 432x288 with 1 Axes>"
      ]
     },
     "metadata": {},
     "output_type": "display_data"
    }
   ],
   "source": [
    "nx.draw(U)"
   ]
  },
  {
   "cell_type": "code",
   "execution_count": null,
   "id": "487b1fd1",
   "metadata": {},
   "outputs": [],
   "source": [
    "#modifiction of code clock found on Social Network Analysis for Startups, pg64 \n",
    "def trim_nodes(g, weight=1):\n",
    "    nodes = []\n",
    "    for n in g.nodes():\n",
    "        if g.degree(n) > weight:\n",
    "            nodes.append(n)\n",
    "    G2 = g.subgraph(nodes)\n",
    "    return G2"
   ]
  },
  {
   "cell_type": "code",
   "execution_count": null,
   "id": "90576317",
   "metadata": {},
   "outputs": [],
   "source": [
    "U2 = trim_nodes(U,1000)\n",
    "print(nx.info(U2))"
   ]
  },
  {
   "cell_type": "code",
   "execution_count": null,
   "id": "638c6018",
   "metadata": {},
   "outputs": [],
   "source": [
    "U2_degrees = dict(U2.degree()).values()\n",
    "fig, ax = plt.subplots(figsize=(15, 15))\n",
    "nx.draw_spring(U2 ,alpha =.7,width = .01, arrows=False , node_size = [v*.3 for v in U2_degrees])"
   ]
  },
  {
   "cell_type": "code",
   "execution_count": null,
   "id": "00f3fdb0",
   "metadata": {},
   "outputs": [],
   "source": [
    "\n",
    "__author__ = \"\"\"\\n\"\"\".join(['Maksim Tsvetovat <maksim@tsvetovat.org',\n",
    "'Drew Conway <drew.conway@nyu.edu>',\n",
    "'Aric Hagberg <hagberg@lanl.gov>'])\n",
    "from collections import defaultdict\n",
    "import networkx as nx\n",
    "import numpy\n",
    "from scipy.cluster import hierarchy\n",
    "from scipy.spatial import distance\n",
    "import matplotlib.pyplot as plt\n",
    "\n",
    "def create_hc(G, t=1.0):\n",
    "    \"\"\"\n",
    "    Creates hierarchical cluster of graph G from distance matrix\n",
    "    Maksim Tsvetovat ->> Generalized HC pre- and post-processing to work on labelled graphs\n",
    "    and return labelled clusters\n",
    "    The threshold value is now parameterized; useful range should be determined\n",
    "    experimentally with each dataset\n",
    "    \"\"\"\n",
    "    \"\"\"Modified from code by Drew Conway\"\"\"\n",
    "    \n",
    "    ## Create a shortest-path distance matrix, while preserving node labels\n",
    "    labels=G.nodes()\n",
    "    path_length=nx.all_pairs_shortest_path_length(G)\n",
    "    distances=numpy.zeros((len(G),len(G)))\n",
    "    i=0\n",
    "    for u,p in path_length:\n",
    "        j=0\n",
    "        for v,d in p.items():\n",
    "            distances[i][j]=d\n",
    "            distances[j][i]=d\n",
    "            if i==j: distances[i][j]=0\n",
    "            j+=1\n",
    "        i+=1\n",
    "        \n",
    "    # Create hierarchical cluster\n",
    "    Y=distance.squareform(distances)\n",
    "    Z=hierarchy.complete(Y) # Creates HC using farthest point linkage\n",
    "    \n",
    "    # This partition selection is arbitrary, for illustrive purposes\n",
    "    membership=list(hierarchy.fcluster(Z,t=t))\n",
    "    \n",
    "    # Create collection of lists for blockmodel\n",
    "    partition=defaultdict(list)\n",
    "    for n,p in zip(list(range(len(G))),membership):\n",
    "        if p>=0:\n",
    "            partition[p].append(labels[n])\n",
    "    return list(partition.values())"
   ]
  },
  {
   "cell_type": "code",
   "execution_count": null,
   "id": "f9e05031",
   "metadata": {},
   "outputs": [],
   "source": [
    "#clusters = create_hc(U2)"
   ]
  }
 ],
 "metadata": {
  "kernelspec": {
   "display_name": "Python 3",
   "language": "python",
   "name": "python3"
  },
  "language_info": {
   "codemirror_mode": {
    "name": "ipython",
    "version": 3
   },
   "file_extension": ".py",
   "mimetype": "text/x-python",
   "name": "python",
   "nbconvert_exporter": "python",
   "pygments_lexer": "ipython3",
   "version": "3.7.10"
  }
 },
 "nbformat": 4,
 "nbformat_minor": 5
}
