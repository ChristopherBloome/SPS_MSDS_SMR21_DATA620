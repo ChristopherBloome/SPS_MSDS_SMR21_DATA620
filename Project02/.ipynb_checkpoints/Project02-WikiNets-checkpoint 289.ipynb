{
 "cells": [
  {
   "cell_type": "markdown",
   "id": "987da827-1567-4f01-806f-687b66c830b4",
   "metadata": {},
   "source": [
    "<b>Web Analytics DATA 620 - Project 02</b>\n",
    "\n",
    "<b>Assignment: “Wiki Publishing”</b>\n",
    "\n",
    "<b>Group - Chris Bloome / Mustafa Telab / Vinayak Kamath</b>\n",
    "\n",
    "<b>Date - 24th June 2021</b>\n",
    "\n",
    "--- \n",
    "\n",
    "\n",
    "Identify a large 2-node network dataset—you can start with a dataset in a repository.  Your data should meet the criteria that it consists of ties between and not within two (or more) distinct groups.\n",
    "Reduce the size of the network using a method such as the island method described in chapter 4 of social network analysis.\n",
    "What can you infer about each of the distinct groups?"
   ]
  },
  {
   "cell_type": "markdown",
   "id": "707c847e-9c1d-4ba9-b7e0-83c62ab97742",
   "metadata": {},
   "source": [
    "---"
   ]
  },
  {
   "cell_type": "markdown",
   "id": "460459d2-0644-4a9a-8e00-82b82dff0578",
   "metadata": {},
   "source": [
    "<b>Wikipedia User Publishing</b>\n",
    "\n"
   ]
  },
  {
   "cell_type": "markdown",
   "id": "117c592a-0fec-4800-808f-8fe55a34b19b",
   "metadata": {},
   "source": [
    "The source of the data is http://networkrepository.com/ia-wiki-user-edits-page.php#\n",
    "\n",
    "The data is a collection of edges that represent users and wikipedia pages; while the edges represent a edit events.\n",
    "\n",
    " - User\n",
    " - Web page\n",
    " - Weight\n",
    " - Time Stamp"
   ]
  },
  {
   "cell_type": "markdown",
   "id": "7e2782f8-bd35-4ee5-960f-fd731a2fcb6a",
   "metadata": {},
   "source": [
    "---"
   ]
  },
  {
   "cell_type": "code",
   "execution_count": 1,
   "id": "fdc62764",
   "metadata": {},
   "outputs": [],
   "source": [
    "# Import required libraries\n",
    "import networkx as nx\n",
    "import networkx.algorithms.bipartite as bipartite\n",
    "import matplotlib.pyplot as plt\n",
    "import pandas as pd\n",
    "import numpy as np\n",
    "import matplotlib.pyplot as plt\n",
    "from pyvis.network import Network\n",
    "from datetime import datetime"
   ]
  },
  {
   "cell_type": "code",
   "execution_count": 2,
   "id": "d836a4d2",
   "metadata": {},
   "outputs": [],
   "source": [
    "df = pd.read_csv('ia-wiki-user-edits-page.edges', sep = ' ',header = None, names = ['source','target','weight','time'])"
   ]
  },
  {
   "cell_type": "code",
   "execution_count": 3,
   "id": "4b6af6c2",
   "metadata": {},
   "outputs": [],
   "source": [
    "#df['hour'] = [int(datetime.utcfromtimestamp(v).strftime('%H')), for v in df['time']]\n",
    "#df['month'] = [int(datetime.utcfromtimestamp(v).strftime('%m')) for v in df['time']]\n",
    "#df['year'] = [int(datetime.utcfromtimestamp(v).strftime('%Y')) for v in df['time']]\n",
    "#df['date'] = [datetime.utcfromtimestamp(v).strftime('%Y-%m-%d') for v in df['time']]"
   ]
  },
  {
   "cell_type": "code",
   "execution_count": null,
   "id": "34aaacf0",
   "metadata": {},
   "outputs": [],
   "source": [
    "df[('hour','month','year','date')] = [(int(datetime.utcfromtimestamp(v).strftime('%H')), int(datetime.utcfromtimestamp(v).strftime('%m')),int(datetime.utcfromtimestamp(v).strftime('%Y')),datetime.utcfromtimestamp(v).strftime('%Y-%m-%d')) for v in df['time']]"
   ]
  },
  {
   "cell_type": "code",
   "execution_count": 6,
   "id": "e98315c0",
   "metadata": {},
   "outputs": [],
   "source": [
    "df['source'] = ['u'+ str(v) for v in df['source']]\n",
    "df['target'] = ['p'+ str(v) for v in df['target']]"
   ]
  },
  {
   "cell_type": "code",
   "execution_count": 7,
   "id": "7beb85b8",
   "metadata": {},
   "outputs": [
    {
     "name": "stdout",
     "output_type": "stream",
     "text": [
      "8998641\n"
     ]
    },
    {
     "data": {
      "text/html": [
       "<div>\n",
       "<style scoped>\n",
       "    .dataframe tbody tr th:only-of-type {\n",
       "        vertical-align: middle;\n",
       "    }\n",
       "\n",
       "    .dataframe tbody tr th {\n",
       "        vertical-align: top;\n",
       "    }\n",
       "\n",
       "    .dataframe thead th {\n",
       "        text-align: right;\n",
       "    }\n",
       "</style>\n",
       "<table border=\"1\" class=\"dataframe\">\n",
       "  <thead>\n",
       "    <tr style=\"text-align: right;\">\n",
       "      <th></th>\n",
       "      <th>source</th>\n",
       "      <th>target</th>\n",
       "      <th>weight</th>\n",
       "      <th>time</th>\n",
       "      <th>(hour, month, year, date)</th>\n",
       "    </tr>\n",
       "  </thead>\n",
       "  <tbody>\n",
       "    <tr>\n",
       "      <th>0</th>\n",
       "      <td>u1</td>\n",
       "      <td>p1</td>\n",
       "      <td>1</td>\n",
       "      <td>1039680411</td>\n",
       "      <td>(8, 12, 2002, 2002-12-12)</td>\n",
       "    </tr>\n",
       "    <tr>\n",
       "      <th>1</th>\n",
       "      <td>u1</td>\n",
       "      <td>p1</td>\n",
       "      <td>1</td>\n",
       "      <td>1039680680</td>\n",
       "      <td>(8, 12, 2002, 2002-12-12)</td>\n",
       "    </tr>\n",
       "    <tr>\n",
       "      <th>2</th>\n",
       "      <td>u1</td>\n",
       "      <td>p1</td>\n",
       "      <td>1</td>\n",
       "      <td>1039680886</td>\n",
       "      <td>(8, 12, 2002, 2002-12-12)</td>\n",
       "    </tr>\n",
       "    <tr>\n",
       "      <th>3</th>\n",
       "      <td>u2</td>\n",
       "      <td>p1</td>\n",
       "      <td>1</td>\n",
       "      <td>1040932914</td>\n",
       "      <td>(20, 12, 2002, 2002-12-26)</td>\n",
       "    </tr>\n",
       "    <tr>\n",
       "      <th>4</th>\n",
       "      <td>u3</td>\n",
       "      <td>p1</td>\n",
       "      <td>1</td>\n",
       "      <td>1052273037</td>\n",
       "      <td>(2, 5, 2003, 2003-05-07)</td>\n",
       "    </tr>\n",
       "    <tr>\n",
       "      <th>...</th>\n",
       "      <td>...</td>\n",
       "      <td>...</td>\n",
       "      <td>...</td>\n",
       "      <td>...</td>\n",
       "      <td>...</td>\n",
       "    </tr>\n",
       "    <tr>\n",
       "      <th>8998636</th>\n",
       "      <td>u464</td>\n",
       "      <td>p2104540</td>\n",
       "      <td>1</td>\n",
       "      <td>1283377189</td>\n",
       "      <td>(21, 9, 2010, 2010-09-01)</td>\n",
       "    </tr>\n",
       "    <tr>\n",
       "      <th>8998637</th>\n",
       "      <td>u464</td>\n",
       "      <td>p2104541</td>\n",
       "      <td>1</td>\n",
       "      <td>1283377209</td>\n",
       "      <td>(21, 9, 2010, 2010-09-01)</td>\n",
       "    </tr>\n",
       "    <tr>\n",
       "      <th>8998638</th>\n",
       "      <td>u464</td>\n",
       "      <td>p2104542</td>\n",
       "      <td>1</td>\n",
       "      <td>1283377230</td>\n",
       "      <td>(21, 9, 2010, 2010-09-01)</td>\n",
       "    </tr>\n",
       "    <tr>\n",
       "      <th>8998639</th>\n",
       "      <td>u464</td>\n",
       "      <td>p2104543</td>\n",
       "      <td>1</td>\n",
       "      <td>1283377270</td>\n",
       "      <td>(21, 9, 2010, 2010-09-01)</td>\n",
       "    </tr>\n",
       "    <tr>\n",
       "      <th>8998640</th>\n",
       "      <td>u464</td>\n",
       "      <td>p2104544</td>\n",
       "      <td>1</td>\n",
       "      <td>1283377288</td>\n",
       "      <td>(21, 9, 2010, 2010-09-01)</td>\n",
       "    </tr>\n",
       "  </tbody>\n",
       "</table>\n",
       "<p>8998641 rows × 5 columns</p>\n",
       "</div>"
      ],
      "text/plain": [
       "        source    target  weight        time   (hour, month, year, date)\n",
       "0           u1        p1       1  1039680411   (8, 12, 2002, 2002-12-12)\n",
       "1           u1        p1       1  1039680680   (8, 12, 2002, 2002-12-12)\n",
       "2           u1        p1       1  1039680886   (8, 12, 2002, 2002-12-12)\n",
       "3           u2        p1       1  1040932914  (20, 12, 2002, 2002-12-26)\n",
       "4           u3        p1       1  1052273037    (2, 5, 2003, 2003-05-07)\n",
       "...        ...       ...     ...         ...                         ...\n",
       "8998636   u464  p2104540       1  1283377189   (21, 9, 2010, 2010-09-01)\n",
       "8998637   u464  p2104541       1  1283377209   (21, 9, 2010, 2010-09-01)\n",
       "8998638   u464  p2104542       1  1283377230   (21, 9, 2010, 2010-09-01)\n",
       "8998639   u464  p2104543       1  1283377270   (21, 9, 2010, 2010-09-01)\n",
       "8998640   u464  p2104544       1  1283377288   (21, 9, 2010, 2010-09-01)\n",
       "\n",
       "[8998641 rows x 5 columns]"
      ]
     },
     "execution_count": 7,
     "metadata": {},
     "output_type": "execute_result"
    }
   ],
   "source": [
    "print(len(df))\n",
    "df"
   ]
  },
  {
   "cell_type": "code",
   "execution_count": 8,
   "id": "25e24966",
   "metadata": {},
   "outputs": [
    {
     "ename": "KeyError",
     "evalue": "'date'",
     "output_type": "error",
     "traceback": [
      "\u001b[0;31m---------------------------------------------------------------------------\u001b[0m",
      "\u001b[0;31mKeyError\u001b[0m                                  Traceback (most recent call last)",
      "\u001b[0;32m<ipython-input-8-f8ef59954419>\u001b[0m in \u001b[0;36m<module>\u001b[0;34m\u001b[0m\n\u001b[0;32m----> 1\u001b[0;31m \u001b[0mu198\u001b[0m \u001b[0;34m=\u001b[0m \u001b[0mdf\u001b[0m\u001b[0;34m[\u001b[0m\u001b[0mdf\u001b[0m\u001b[0;34m[\u001b[0m\u001b[0;34m'source'\u001b[0m\u001b[0;34m]\u001b[0m\u001b[0;34m==\u001b[0m\u001b[0;34m'u198'\u001b[0m\u001b[0;34m]\u001b[0m\u001b[0;34m.\u001b[0m\u001b[0mgroupby\u001b[0m\u001b[0;34m(\u001b[0m\u001b[0;34m'date'\u001b[0m\u001b[0;34m)\u001b[0m\u001b[0;34m.\u001b[0m\u001b[0maggregate\u001b[0m\u001b[0;34m(\u001b[0m\u001b[0;34m{\u001b[0m\u001b[0;34m(\u001b[0m\u001b[0;34m'weight'\u001b[0m\u001b[0;34m)\u001b[0m\u001b[0;34m:\u001b[0m\u001b[0mnp\u001b[0m\u001b[0;34m.\u001b[0m\u001b[0msum\u001b[0m\u001b[0;34m}\u001b[0m\u001b[0;34m)\u001b[0m\u001b[0;34m.\u001b[0m\u001b[0msort_values\u001b[0m\u001b[0;34m(\u001b[0m\u001b[0mby\u001b[0m \u001b[0;34m=\u001b[0m \u001b[0;34m'date'\u001b[0m\u001b[0;34m,\u001b[0m \u001b[0mascending\u001b[0m \u001b[0;34m=\u001b[0m \u001b[0;32mTrue\u001b[0m\u001b[0;34m)\u001b[0m\u001b[0;34m.\u001b[0m\u001b[0mreset_index\u001b[0m\u001b[0;34m(\u001b[0m\u001b[0;34m)\u001b[0m\u001b[0;34m\u001b[0m\u001b[0;34m\u001b[0m\u001b[0m\n\u001b[0m",
      "\u001b[0;32m~/opt/anaconda3/envs/sps620env/lib/python3.7/site-packages/pandas/core/frame.py\u001b[0m in \u001b[0;36mgroupby\u001b[0;34m(self, by, axis, level, as_index, sort, group_keys, squeeze, observed, dropna)\u001b[0m\n\u001b[1;32m   6725\u001b[0m             \u001b[0msqueeze\u001b[0m\u001b[0;34m=\u001b[0m\u001b[0msqueeze\u001b[0m\u001b[0;34m,\u001b[0m\u001b[0;34m\u001b[0m\u001b[0;34m\u001b[0m\u001b[0m\n\u001b[1;32m   6726\u001b[0m             \u001b[0mobserved\u001b[0m\u001b[0;34m=\u001b[0m\u001b[0mobserved\u001b[0m\u001b[0;34m,\u001b[0m\u001b[0;34m\u001b[0m\u001b[0;34m\u001b[0m\u001b[0m\n\u001b[0;32m-> 6727\u001b[0;31m             \u001b[0mdropna\u001b[0m\u001b[0;34m=\u001b[0m\u001b[0mdropna\u001b[0m\u001b[0;34m,\u001b[0m\u001b[0;34m\u001b[0m\u001b[0;34m\u001b[0m\u001b[0m\n\u001b[0m\u001b[1;32m   6728\u001b[0m         )\n\u001b[1;32m   6729\u001b[0m \u001b[0;34m\u001b[0m\u001b[0m\n",
      "\u001b[0;32m~/opt/anaconda3/envs/sps620env/lib/python3.7/site-packages/pandas/core/groupby/groupby.py\u001b[0m in \u001b[0;36m__init__\u001b[0;34m(self, obj, keys, axis, level, grouper, exclusions, selection, as_index, sort, group_keys, squeeze, observed, mutated, dropna)\u001b[0m\n\u001b[1;32m    566\u001b[0m                 \u001b[0mobserved\u001b[0m\u001b[0;34m=\u001b[0m\u001b[0mobserved\u001b[0m\u001b[0;34m,\u001b[0m\u001b[0;34m\u001b[0m\u001b[0;34m\u001b[0m\u001b[0m\n\u001b[1;32m    567\u001b[0m                 \u001b[0mmutated\u001b[0m\u001b[0;34m=\u001b[0m\u001b[0mself\u001b[0m\u001b[0;34m.\u001b[0m\u001b[0mmutated\u001b[0m\u001b[0;34m,\u001b[0m\u001b[0;34m\u001b[0m\u001b[0;34m\u001b[0m\u001b[0m\n\u001b[0;32m--> 568\u001b[0;31m                 \u001b[0mdropna\u001b[0m\u001b[0;34m=\u001b[0m\u001b[0mself\u001b[0m\u001b[0;34m.\u001b[0m\u001b[0mdropna\u001b[0m\u001b[0;34m,\u001b[0m\u001b[0;34m\u001b[0m\u001b[0;34m\u001b[0m\u001b[0m\n\u001b[0m\u001b[1;32m    569\u001b[0m             )\n\u001b[1;32m    570\u001b[0m \u001b[0;34m\u001b[0m\u001b[0m\n",
      "\u001b[0;32m~/opt/anaconda3/envs/sps620env/lib/python3.7/site-packages/pandas/core/groupby/grouper.py\u001b[0m in \u001b[0;36mget_grouper\u001b[0;34m(obj, key, axis, level, sort, observed, mutated, validate, dropna)\u001b[0m\n\u001b[1;32m    809\u001b[0m                 \u001b[0min_axis\u001b[0m\u001b[0;34m,\u001b[0m \u001b[0mname\u001b[0m\u001b[0;34m,\u001b[0m \u001b[0mlevel\u001b[0m\u001b[0;34m,\u001b[0m \u001b[0mgpr\u001b[0m \u001b[0;34m=\u001b[0m \u001b[0;32mFalse\u001b[0m\u001b[0;34m,\u001b[0m \u001b[0;32mNone\u001b[0m\u001b[0;34m,\u001b[0m \u001b[0mgpr\u001b[0m\u001b[0;34m,\u001b[0m \u001b[0;32mNone\u001b[0m\u001b[0;34m\u001b[0m\u001b[0;34m\u001b[0m\u001b[0m\n\u001b[1;32m    810\u001b[0m             \u001b[0;32melse\u001b[0m\u001b[0;34m:\u001b[0m\u001b[0;34m\u001b[0m\u001b[0;34m\u001b[0m\u001b[0m\n\u001b[0;32m--> 811\u001b[0;31m                 \u001b[0;32mraise\u001b[0m \u001b[0mKeyError\u001b[0m\u001b[0;34m(\u001b[0m\u001b[0mgpr\u001b[0m\u001b[0;34m)\u001b[0m\u001b[0;34m\u001b[0m\u001b[0;34m\u001b[0m\u001b[0m\n\u001b[0m\u001b[1;32m    812\u001b[0m         \u001b[0;32melif\u001b[0m \u001b[0misinstance\u001b[0m\u001b[0;34m(\u001b[0m\u001b[0mgpr\u001b[0m\u001b[0;34m,\u001b[0m \u001b[0mGrouper\u001b[0m\u001b[0;34m)\u001b[0m \u001b[0;32mand\u001b[0m \u001b[0mgpr\u001b[0m\u001b[0;34m.\u001b[0m\u001b[0mkey\u001b[0m \u001b[0;32mis\u001b[0m \u001b[0;32mnot\u001b[0m \u001b[0;32mNone\u001b[0m\u001b[0;34m:\u001b[0m\u001b[0;34m\u001b[0m\u001b[0;34m\u001b[0m\u001b[0m\n\u001b[1;32m    813\u001b[0m             \u001b[0;31m# Add key to exclusions\u001b[0m\u001b[0;34m\u001b[0m\u001b[0;34m\u001b[0m\u001b[0;34m\u001b[0m\u001b[0m\n",
      "\u001b[0;31mKeyError\u001b[0m: 'date'"
     ]
    }
   ],
   "source": [
    "u198 = df[df['source']=='u198'].groupby('date').aggregate({('weight'):np.sum}).sort_values(by = 'date', ascending = True).reset_index()"
   ]
  },
  {
   "cell_type": "code",
   "execution_count": null,
   "id": "8c13e9e3",
   "metadata": {},
   "outputs": [],
   "source": [
    "u198['date'] = pd.to_datetime(u198['date'], format = '%Y-%m-%d')\n",
    "r = pd.date_range(start= u198.date.min(), end = u198.date.max())\n",
    "u198 = u198.set_index('date').reindex(r, fill_value=0)#.reindex(r)#.fillna(0).rename_axis('date').reset_index()"
   ]
  },
  {
   "cell_type": "code",
   "execution_count": null,
   "id": "e1680ebd",
   "metadata": {},
   "outputs": [],
   "source": [
    "plt.plot(r,pd.Series(u198['weight']).cumsum())\n",
    "plt.xticks([min(r), max(r)])\n",
    "plt.show()"
   ]
  },
  {
   "cell_type": "code",
   "execution_count": null,
   "id": "e1fca9bb",
   "metadata": {},
   "outputs": [],
   "source": []
  },
  {
   "cell_type": "code",
   "execution_count": null,
   "id": "2b367fca",
   "metadata": {},
   "outputs": [],
   "source": [
    "print('Pages Per User Statisitics')\n",
    "print(u_count[ \"pages\"].describe().round(2) , '\\n')\n",
    "print('Users Per Page Statisitics')\n",
    "print(p_count[ \"users\"].describe().round(2))"
   ]
  },
  {
   "cell_type": "code",
   "execution_count": null,
   "id": "897f2580",
   "metadata": {},
   "outputs": [],
   "source": [
    "plt.hist(u_count['pages'], bins = 10)\n",
    "plt.title('Pages Per User Statisitics')\n",
    "plt.yscale('log')"
   ]
  },
  {
   "cell_type": "code",
   "execution_count": null,
   "id": "82678bec",
   "metadata": {},
   "outputs": [],
   "source": [
    "plt.hist(p_count['users'], bins = 30)\n",
    "plt.title('Users Per Page Statisitics')\n",
    "plt.yscale('log')"
   ]
  },
  {
   "cell_type": "code",
   "execution_count": null,
   "id": "01d30f3a",
   "metadata": {},
   "outputs": [],
   "source": [
    "pdf = count / sum(count)\n",
    "  \n",
    "# using numpy np.cumsum to calculate the CDF\n",
    "# We can also find using the PDF values by looping and adding\n",
    "cdf = np.cumsum(pdf)\n",
    "  \n",
    "# plotting PDF and CDF\n",
    "plt.plot(bins_count[1:], pdf, color=\"red\", label=\"PDF\")\n",
    "plt.plot(bins_count[1:], cdf, label=\"CDF\")\n",
    "plt.legend()"
   ]
  },
  {
   "cell_type": "code",
   "execution_count": null,
   "id": "633a9134",
   "metadata": {},
   "outputs": [],
   "source": [
    "df_grouped = df.groupby(['source','target']).aggregate({('weight'):np.sum,('hour'):np.average,('month'):np.average}).reset_index()"
   ]
  },
  {
   "cell_type": "code",
   "execution_count": null,
   "id": "62b06802",
   "metadata": {},
   "outputs": [],
   "source": [
    "u_count = df_grouped['source'].value_counts(ascending=True).rename_axis('source').reset_index(name='pages')\n",
    "p_count = df_grouped['target'].value_counts(ascending=True).rename_axis('target').reset_index(name='users')"
   ]
  },
  {
   "cell_type": "code",
   "execution_count": null,
   "id": "4f54cda5",
   "metadata": {},
   "outputs": [],
   "source": [
    "p_count"
   ]
  },
  {
   "cell_type": "code",
   "execution_count": null,
   "id": "36059e74",
   "metadata": {},
   "outputs": [],
   "source": [
    "u_count"
   ]
  },
  {
   "cell_type": "code",
   "execution_count": null,
   "id": "55a7a3de",
   "metadata": {},
   "outputs": [],
   "source": [
    "df_grouped = pd.merge(df_grouped, u_count, how=\"left\", on=\"source\")"
   ]
  },
  {
   "cell_type": "code",
   "execution_count": null,
   "id": "8e24c12e",
   "metadata": {},
   "outputs": [],
   "source": [
    "df_grouped = pd.merge(df_grouped, p_count, how=\"left\", on=\"target\")"
   ]
  },
  {
   "cell_type": "code",
   "execution_count": null,
   "id": "2137efbd",
   "metadata": {},
   "outputs": [],
   "source": [
    "print(len(df_grouped))\n",
    "print(df_grouped.head())"
   ]
  },
  {
   "cell_type": "code",
   "execution_count": null,
   "id": "8e52981b",
   "metadata": {},
   "outputs": [],
   "source": [
    "df_island = df_grouped[(df_grouped['pages']>100)  & (df_grouped['users']>20)]\n",
    "len(df_island)"
   ]
  },
  {
   "cell_type": "code",
   "execution_count": null,
   "id": "c97d3788",
   "metadata": {},
   "outputs": [],
   "source": [
    "S = nx.from_pandas_edgelist(df_island, source='source', target='target', edge_attr=[\"weight\", \"hour\"], create_using = nx.DiGraph(), edge_key=None)"
   ]
  },
  {
   "cell_type": "code",
   "execution_count": null,
   "id": "d3e6eeb0",
   "metadata": {},
   "outputs": [],
   "source": [
    "print(nx.info(S))"
   ]
  },
  {
   "cell_type": "code",
   "execution_count": null,
   "id": "05cdaeda",
   "metadata": {},
   "outputs": [],
   "source": [
    "len(list(nx.connected_components(S.to_undirected())))"
   ]
  },
  {
   "cell_type": "code",
   "execution_count": null,
   "id": "c985f9bf",
   "metadata": {},
   "outputs": [],
   "source": [
    "users = [v for v in S.nodes() if v[0]== 'u']"
   ]
  },
  {
   "cell_type": "code",
   "execution_count": null,
   "id": "e89714b8",
   "metadata": {},
   "outputs": [],
   "source": [
    "users[0:10]"
   ]
  },
  {
   "cell_type": "code",
   "execution_count": null,
   "id": "53c60e9d",
   "metadata": {},
   "outputs": [],
   "source": [
    "U = bipartite.projected_graph(S.to_undirected(), users)"
   ]
  },
  {
   "cell_type": "code",
   "execution_count": null,
   "id": "9e5e0f09",
   "metadata": {},
   "outputs": [],
   "source": [
    "print(nx.info(U))"
   ]
  },
  {
   "cell_type": "code",
   "execution_count": null,
   "id": "0e292973",
   "metadata": {},
   "outputs": [],
   "source": [
    "nx.is_bipartite(S)"
   ]
  },
  {
   "cell_type": "code",
   "execution_count": null,
   "id": "9075f36d",
   "metadata": {},
   "outputs": [],
   "source": [
    "nx.draw(U)"
   ]
  },
  {
   "cell_type": "code",
   "execution_count": null,
   "id": "487b1fd1",
   "metadata": {},
   "outputs": [],
   "source": [
    "#modifiction of code clock found on Social Network Analysis for Startups, pg64 \n",
    "def trim_nodes(g, weight=1):\n",
    "    nodes = []\n",
    "    for n in g.nodes():\n",
    "        if g.degree(n) > weight:\n",
    "            nodes.append(n)\n",
    "    G2 = g.subgraph(nodes)\n",
    "    return G2"
   ]
  },
  {
   "cell_type": "code",
   "execution_count": null,
   "id": "90576317",
   "metadata": {},
   "outputs": [],
   "source": [
    "U2 = trim_nodes(U,600)\n",
    "print(nx.info(U2))"
   ]
  },
  {
   "cell_type": "code",
   "execution_count": null,
   "id": "638c6018",
   "metadata": {},
   "outputs": [],
   "source": [
    "nx.draw(U2)"
   ]
  },
  {
   "cell_type": "code",
   "execution_count": null,
   "id": "00f3fdb0",
   "metadata": {},
   "outputs": [],
   "source": [
    "__author__ = \"\"\"\\n\"\"\".join(['Maksim Tsvetovat <maksim@tsvetovat.org',\n",
    "'Drew Conway <drew.conway@nyu.edu>',\n",
    "'Aric Hagberg <hagberg@lanl.gov>'])\n",
    "from collections import defaultdict\n",
    "import networkx as nx\n",
    "import numpy\n",
    "from scipy.cluster import hierarchy\n",
    "from scipy.spatial import distance\n",
    "import matplotlib.pyplot as plt\n",
    "\n",
    "def create_hc(G, t=1.0):\n",
    "    \"\"\"\n",
    "    Creates hierarchical cluster of graph G from distance matrix\n",
    "    Maksim Tsvetovat ->> Generalized HC pre- and post-processing to work on labelled graphs\n",
    "    and return labelled clusters\n",
    "    The threshold value is now parameterized; useful range should be determined\n",
    "    experimentally with each dataset\n",
    "    \"\"\"\n",
    "    \"\"\"Modified from code by Drew Conway\"\"\"\n",
    "    \n",
    "    ## Create a shortest-path distance matrix, while preserving node labels\n",
    "    labels=G.nodes()\n",
    "    path_length=nx.all_pairs_shortest_path_length(G)\n",
    "    distances=numpy.zeros((len(G),len(G)))\n",
    "    i=0\n",
    "    for u,p in path_length:\n",
    "        j=0\n",
    "        for v,d in p.items():\n",
    "            distances[i][j]=d\n",
    "            distances[j][i]=d\n",
    "            if i==j: distances[i][j]=0\n",
    "            j+=1\n",
    "        i+=1\n",
    "        \n",
    "    # Create hierarchical cluster\n",
    "    Y=distance.squareform(distances)\n",
    "    Z=hierarchy.complete(Y) # Creates HC using farthest point linkage\n",
    "    \n",
    "    # This partition selection is arbitrary, for illustrive purposes\n",
    "    membership=list(hierarchy.fcluster(Z,t=t))\n",
    "    \n",
    "    # Create collection of lists for blockmodel\n",
    "    partition=defaultdict(list)\n",
    "    for n,p in zip(list(range(len(G))),membership):\n",
    "        if p>=0:\n",
    "            partition[p].append(labels[n])\n",
    "    return list(partition.values())"
   ]
  },
  {
   "cell_type": "code",
   "execution_count": null,
   "id": "f9e05031",
   "metadata": {},
   "outputs": [],
   "source": [
    "clusters = create_hc(U2)"
   ]
  }
 ],
 "metadata": {
  "kernelspec": {
   "display_name": "Python 3",
   "language": "python",
   "name": "python3"
  },
  "language_info": {
   "codemirror_mode": {
    "name": "ipython",
    "version": 3
   },
   "file_extension": ".py",
   "mimetype": "text/x-python",
   "name": "python",
   "nbconvert_exporter": "python",
   "pygments_lexer": "ipython3",
   "version": "3.7.10"
  }
 },
 "nbformat": 4,
 "nbformat_minor": 5
}
