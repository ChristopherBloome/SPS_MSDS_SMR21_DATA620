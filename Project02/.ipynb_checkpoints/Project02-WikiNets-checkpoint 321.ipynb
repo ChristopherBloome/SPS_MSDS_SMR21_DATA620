{
 "cells": [
  {
   "cell_type": "markdown",
   "id": "987da827-1567-4f01-806f-687b66c830b4",
   "metadata": {},
   "source": [
    "<b>Web Analytics DATA 620 - Project 02</b>\n",
    "\n",
    "<b>Assignment: “Wiki Publishing”</b>\n",
    "\n",
    "<b>Group - Chris Bloome / Mustafa Telab / Vinayak Kamath</b>\n",
    "\n",
    "<b>Date - 24th June 2021</b>\n",
    "\n",
    "--- \n",
    "\n",
    "\n",
    "Identify a large 2-node network dataset—you can start with a dataset in a repository.  Your data should meet the criteria that it consists of ties between and not within two (or more) distinct groups.\n",
    "Reduce the size of the network using a method such as the island method described in chapter 4 of social network analysis.\n",
    "What can you infer about each of the distinct groups?"
   ]
  },
  {
   "cell_type": "markdown",
   "id": "707c847e-9c1d-4ba9-b7e0-83c62ab97742",
   "metadata": {},
   "source": [
    "---"
   ]
  },
  {
   "cell_type": "markdown",
   "id": "460459d2-0644-4a9a-8e00-82b82dff0578",
   "metadata": {},
   "source": [
    "<b>Wikipedia User Publishing</b>\n",
    "\n"
   ]
  },
  {
   "cell_type": "markdown",
   "id": "117c592a-0fec-4800-808f-8fe55a34b19b",
   "metadata": {},
   "source": [
    "The source of the data is http://networkrepository.com/ia-wiki-user-edits-page.php#\n",
    "\n",
    "The data is a collection of edges that represent users and wikipedia pages; while the edges represent a edit events.\n",
    "\n",
    " - User\n",
    " - Web page\n",
    " - Weight\n",
    " - Time Stamp"
   ]
  },
  {
   "cell_type": "markdown",
   "id": "7e2782f8-bd35-4ee5-960f-fd731a2fcb6a",
   "metadata": {},
   "source": [
    "---"
   ]
  },
  {
   "cell_type": "code",
   "execution_count": 48,
   "id": "fdc62764",
   "metadata": {},
   "outputs": [],
   "source": [
    "# Import required libraries\n",
    "import networkx as nx\n",
    "import networkx.algorithms.bipartite as bipartite\n",
    "import matplotlib.pyplot as plt\n",
    "import pandas as pd\n",
    "import numpy as np\n",
    "import matplotlib.pyplot as plt\n",
    "from pyvis.network import Network\n",
    "from datetime import datetime\n",
    "from scipy.stats import zscore"
   ]
  },
  {
   "cell_type": "code",
   "execution_count": 2,
   "id": "d836a4d2",
   "metadata": {},
   "outputs": [],
   "source": [
    "df = pd.read_csv('ia-wiki-user-edits-page.edges', sep = ' ',header = None, names = ['source','target','weight','time'])"
   ]
  },
  {
   "cell_type": "code",
   "execution_count": 26,
   "id": "4b6af6c2",
   "metadata": {},
   "outputs": [
    {
     "ename": "KeyboardInterrupt",
     "evalue": "",
     "output_type": "error",
     "traceback": [
      "\u001b[0;31m---------------------------------------------------------------------------\u001b[0m",
      "\u001b[0;31mKeyboardInterrupt\u001b[0m                         Traceback (most recent call last)",
      "\u001b[0;32m<ipython-input-26-c1c25e5ab31f>\u001b[0m in \u001b[0;36m<module>\u001b[0;34m\u001b[0m\n\u001b[1;32m      2\u001b[0m \u001b[0;31m#df['month'] = [int(datetime.utcfromtimestamp(v).strftime('%m')) for v in df['time']]\u001b[0m\u001b[0;34m\u001b[0m\u001b[0;34m\u001b[0m\u001b[0;34m\u001b[0m\u001b[0m\n\u001b[1;32m      3\u001b[0m \u001b[0;31m#df['year'] = [int(datetime.utcfromtimestamp(v).strftime('%Y')) for v in df['time']]\u001b[0m\u001b[0;34m\u001b[0m\u001b[0;34m\u001b[0m\u001b[0;34m\u001b[0m\u001b[0m\n\u001b[0;32m----> 4\u001b[0;31m \u001b[0mdf\u001b[0m\u001b[0;34m[\u001b[0m\u001b[0;34m'date'\u001b[0m\u001b[0;34m]\u001b[0m \u001b[0;34m=\u001b[0m \u001b[0;34m[\u001b[0m\u001b[0mpd\u001b[0m\u001b[0;34m.\u001b[0m\u001b[0mto_datetime\u001b[0m\u001b[0;34m(\u001b[0m\u001b[0mdatetime\u001b[0m\u001b[0;34m.\u001b[0m\u001b[0mutcfromtimestamp\u001b[0m\u001b[0;34m(\u001b[0m\u001b[0mv\u001b[0m\u001b[0;34m)\u001b[0m\u001b[0;34m.\u001b[0m\u001b[0mstrftime\u001b[0m\u001b[0;34m(\u001b[0m\u001b[0;34m'%Y-%m-%d'\u001b[0m\u001b[0;34m)\u001b[0m\u001b[0;34m)\u001b[0m \u001b[0;32mfor\u001b[0m \u001b[0mv\u001b[0m \u001b[0;32min\u001b[0m \u001b[0mdf\u001b[0m\u001b[0;34m[\u001b[0m\u001b[0;34m'time'\u001b[0m\u001b[0;34m]\u001b[0m\u001b[0;34m]\u001b[0m\u001b[0;34m\u001b[0m\u001b[0;34m\u001b[0m\u001b[0m\n\u001b[0m",
      "\u001b[0;32m<ipython-input-26-c1c25e5ab31f>\u001b[0m in \u001b[0;36m<listcomp>\u001b[0;34m(.0)\u001b[0m\n\u001b[1;32m      2\u001b[0m \u001b[0;31m#df['month'] = [int(datetime.utcfromtimestamp(v).strftime('%m')) for v in df['time']]\u001b[0m\u001b[0;34m\u001b[0m\u001b[0;34m\u001b[0m\u001b[0;34m\u001b[0m\u001b[0m\n\u001b[1;32m      3\u001b[0m \u001b[0;31m#df['year'] = [int(datetime.utcfromtimestamp(v).strftime('%Y')) for v in df['time']]\u001b[0m\u001b[0;34m\u001b[0m\u001b[0;34m\u001b[0m\u001b[0;34m\u001b[0m\u001b[0m\n\u001b[0;32m----> 4\u001b[0;31m \u001b[0mdf\u001b[0m\u001b[0;34m[\u001b[0m\u001b[0;34m'date'\u001b[0m\u001b[0;34m]\u001b[0m \u001b[0;34m=\u001b[0m \u001b[0;34m[\u001b[0m\u001b[0mpd\u001b[0m\u001b[0;34m.\u001b[0m\u001b[0mto_datetime\u001b[0m\u001b[0;34m(\u001b[0m\u001b[0mdatetime\u001b[0m\u001b[0;34m.\u001b[0m\u001b[0mutcfromtimestamp\u001b[0m\u001b[0;34m(\u001b[0m\u001b[0mv\u001b[0m\u001b[0;34m)\u001b[0m\u001b[0;34m.\u001b[0m\u001b[0mstrftime\u001b[0m\u001b[0;34m(\u001b[0m\u001b[0;34m'%Y-%m-%d'\u001b[0m\u001b[0;34m)\u001b[0m\u001b[0;34m)\u001b[0m \u001b[0;32mfor\u001b[0m \u001b[0mv\u001b[0m \u001b[0;32min\u001b[0m \u001b[0mdf\u001b[0m\u001b[0;34m[\u001b[0m\u001b[0;34m'time'\u001b[0m\u001b[0;34m]\u001b[0m\u001b[0;34m]\u001b[0m\u001b[0;34m\u001b[0m\u001b[0;34m\u001b[0m\u001b[0m\n\u001b[0m",
      "\u001b[0;32m~/opt/anaconda3/envs/sps620env/lib/python3.7/site-packages/pandas/core/tools/datetimes.py\u001b[0m in \u001b[0;36mto_datetime\u001b[0;34m(arg, errors, dayfirst, yearfirst, utc, format, exact, unit, infer_datetime_format, origin, cache)\u001b[0m\n\u001b[1;32m    830\u001b[0m             \u001b[0mresult\u001b[0m \u001b[0;34m=\u001b[0m \u001b[0mconvert_listlike\u001b[0m\u001b[0;34m(\u001b[0m\u001b[0marg\u001b[0m\u001b[0;34m,\u001b[0m \u001b[0mformat\u001b[0m\u001b[0;34m)\u001b[0m\u001b[0;34m\u001b[0m\u001b[0;34m\u001b[0m\u001b[0m\n\u001b[1;32m    831\u001b[0m     \u001b[0;32melse\u001b[0m\u001b[0;34m:\u001b[0m\u001b[0;34m\u001b[0m\u001b[0;34m\u001b[0m\u001b[0m\n\u001b[0;32m--> 832\u001b[0;31m         \u001b[0mresult\u001b[0m \u001b[0;34m=\u001b[0m \u001b[0mconvert_listlike\u001b[0m\u001b[0;34m(\u001b[0m\u001b[0mnp\u001b[0m\u001b[0;34m.\u001b[0m\u001b[0marray\u001b[0m\u001b[0;34m(\u001b[0m\u001b[0;34m[\u001b[0m\u001b[0marg\u001b[0m\u001b[0;34m]\u001b[0m\u001b[0;34m)\u001b[0m\u001b[0;34m,\u001b[0m \u001b[0mformat\u001b[0m\u001b[0;34m)\u001b[0m\u001b[0;34m[\u001b[0m\u001b[0;36m0\u001b[0m\u001b[0;34m]\u001b[0m\u001b[0;34m\u001b[0m\u001b[0;34m\u001b[0m\u001b[0m\n\u001b[0m\u001b[1;32m    833\u001b[0m \u001b[0;34m\u001b[0m\u001b[0m\n\u001b[1;32m    834\u001b[0m     \u001b[0;32mreturn\u001b[0m \u001b[0mresult\u001b[0m\u001b[0;34m\u001b[0m\u001b[0;34m\u001b[0m\u001b[0m\n",
      "\u001b[0;31mKeyboardInterrupt\u001b[0m: "
     ]
    }
   ],
   "source": [
    "#df['hour'] = [int(datetime.utcfromtimestamp(v).strftime('%H')), for v in df['time']]\n",
    "#df['month'] = [int(datetime.utcfromtimestamp(v).strftime('%m')) for v in df['time']]\n",
    "#df['year'] = [int(datetime.utcfromtimestamp(v).strftime('%Y')) for v in df['time']]\n",
    "df['date'] = [pd.to_datetime(datetime.utcfromtimestamp(v).strftime('%Y-%m-%d')) for v in df['time']]"
   ]
  },
  {
   "cell_type": "code",
   "execution_count": null,
   "id": "3f244c68",
   "metadata": {},
   "outputs": [],
   "source": [
    "df['hour'] = df['date'].dt.strftime(\"%H\")"
   ]
  },
  {
   "cell_type": "code",
   "execution_count": 6,
   "id": "e98315c0",
   "metadata": {},
   "outputs": [],
   "source": [
    "df['source'] = ['u'+ str(v) for v in df['source']]\n",
    "df['target'] = ['p'+ str(v) for v in df['target']]"
   ]
  },
  {
   "cell_type": "code",
   "execution_count": 12,
   "id": "7beb85b8",
   "metadata": {},
   "outputs": [
    {
     "name": "stdout",
     "output_type": "stream",
     "text": [
      "8998641\n"
     ]
    },
    {
     "data": {
      "text/html": [
       "<div>\n",
       "<style scoped>\n",
       "    .dataframe tbody tr th:only-of-type {\n",
       "        vertical-align: middle;\n",
       "    }\n",
       "\n",
       "    .dataframe tbody tr th {\n",
       "        vertical-align: top;\n",
       "    }\n",
       "\n",
       "    .dataframe thead th {\n",
       "        text-align: right;\n",
       "    }\n",
       "</style>\n",
       "<table border=\"1\" class=\"dataframe\">\n",
       "  <thead>\n",
       "    <tr style=\"text-align: right;\">\n",
       "      <th></th>\n",
       "      <th>source</th>\n",
       "      <th>target</th>\n",
       "      <th>weight</th>\n",
       "      <th>time</th>\n",
       "      <th>(hour, month, year, date)</th>\n",
       "      <th>date</th>\n",
       "    </tr>\n",
       "  </thead>\n",
       "  <tbody>\n",
       "    <tr>\n",
       "      <th>0</th>\n",
       "      <td>u1</td>\n",
       "      <td>p1</td>\n",
       "      <td>1</td>\n",
       "      <td>1039680411</td>\n",
       "      <td>(8, 12, 2002, 2002-12-12)</td>\n",
       "      <td>2002-12-12</td>\n",
       "    </tr>\n",
       "    <tr>\n",
       "      <th>1</th>\n",
       "      <td>u1</td>\n",
       "      <td>p1</td>\n",
       "      <td>1</td>\n",
       "      <td>1039680680</td>\n",
       "      <td>(8, 12, 2002, 2002-12-12)</td>\n",
       "      <td>2002-12-12</td>\n",
       "    </tr>\n",
       "    <tr>\n",
       "      <th>2</th>\n",
       "      <td>u1</td>\n",
       "      <td>p1</td>\n",
       "      <td>1</td>\n",
       "      <td>1039680886</td>\n",
       "      <td>(8, 12, 2002, 2002-12-12)</td>\n",
       "      <td>2002-12-12</td>\n",
       "    </tr>\n",
       "    <tr>\n",
       "      <th>3</th>\n",
       "      <td>u2</td>\n",
       "      <td>p1</td>\n",
       "      <td>1</td>\n",
       "      <td>1040932914</td>\n",
       "      <td>(20, 12, 2002, 2002-12-26)</td>\n",
       "      <td>2002-12-26</td>\n",
       "    </tr>\n",
       "    <tr>\n",
       "      <th>4</th>\n",
       "      <td>u3</td>\n",
       "      <td>p1</td>\n",
       "      <td>1</td>\n",
       "      <td>1052273037</td>\n",
       "      <td>(2, 5, 2003, 2003-05-07)</td>\n",
       "      <td>2003-05-07</td>\n",
       "    </tr>\n",
       "    <tr>\n",
       "      <th>...</th>\n",
       "      <td>...</td>\n",
       "      <td>...</td>\n",
       "      <td>...</td>\n",
       "      <td>...</td>\n",
       "      <td>...</td>\n",
       "      <td>...</td>\n",
       "    </tr>\n",
       "    <tr>\n",
       "      <th>8998636</th>\n",
       "      <td>u464</td>\n",
       "      <td>p2104540</td>\n",
       "      <td>1</td>\n",
       "      <td>1283377189</td>\n",
       "      <td>(21, 9, 2010, 2010-09-01)</td>\n",
       "      <td>2010-09-01</td>\n",
       "    </tr>\n",
       "    <tr>\n",
       "      <th>8998637</th>\n",
       "      <td>u464</td>\n",
       "      <td>p2104541</td>\n",
       "      <td>1</td>\n",
       "      <td>1283377209</td>\n",
       "      <td>(21, 9, 2010, 2010-09-01)</td>\n",
       "      <td>2010-09-01</td>\n",
       "    </tr>\n",
       "    <tr>\n",
       "      <th>8998638</th>\n",
       "      <td>u464</td>\n",
       "      <td>p2104542</td>\n",
       "      <td>1</td>\n",
       "      <td>1283377230</td>\n",
       "      <td>(21, 9, 2010, 2010-09-01)</td>\n",
       "      <td>2010-09-01</td>\n",
       "    </tr>\n",
       "    <tr>\n",
       "      <th>8998639</th>\n",
       "      <td>u464</td>\n",
       "      <td>p2104543</td>\n",
       "      <td>1</td>\n",
       "      <td>1283377270</td>\n",
       "      <td>(21, 9, 2010, 2010-09-01)</td>\n",
       "      <td>2010-09-01</td>\n",
       "    </tr>\n",
       "    <tr>\n",
       "      <th>8998640</th>\n",
       "      <td>u464</td>\n",
       "      <td>p2104544</td>\n",
       "      <td>1</td>\n",
       "      <td>1283377288</td>\n",
       "      <td>(21, 9, 2010, 2010-09-01)</td>\n",
       "      <td>2010-09-01</td>\n",
       "    </tr>\n",
       "  </tbody>\n",
       "</table>\n",
       "<p>8998641 rows × 6 columns</p>\n",
       "</div>"
      ],
      "text/plain": [
       "        source    target  weight        time   (hour, month, year, date)  \\\n",
       "0           u1        p1       1  1039680411   (8, 12, 2002, 2002-12-12)   \n",
       "1           u1        p1       1  1039680680   (8, 12, 2002, 2002-12-12)   \n",
       "2           u1        p1       1  1039680886   (8, 12, 2002, 2002-12-12)   \n",
       "3           u2        p1       1  1040932914  (20, 12, 2002, 2002-12-26)   \n",
       "4           u3        p1       1  1052273037    (2, 5, 2003, 2003-05-07)   \n",
       "...        ...       ...     ...         ...                         ...   \n",
       "8998636   u464  p2104540       1  1283377189   (21, 9, 2010, 2010-09-01)   \n",
       "8998637   u464  p2104541       1  1283377209   (21, 9, 2010, 2010-09-01)   \n",
       "8998638   u464  p2104542       1  1283377230   (21, 9, 2010, 2010-09-01)   \n",
       "8998639   u464  p2104543       1  1283377270   (21, 9, 2010, 2010-09-01)   \n",
       "8998640   u464  p2104544       1  1283377288   (21, 9, 2010, 2010-09-01)   \n",
       "\n",
       "               date  \n",
       "0        2002-12-12  \n",
       "1        2002-12-12  \n",
       "2        2002-12-12  \n",
       "3        2002-12-26  \n",
       "4        2003-05-07  \n",
       "...             ...  \n",
       "8998636  2010-09-01  \n",
       "8998637  2010-09-01  \n",
       "8998638  2010-09-01  \n",
       "8998639  2010-09-01  \n",
       "8998640  2010-09-01  \n",
       "\n",
       "[8998641 rows x 6 columns]"
      ]
     },
     "execution_count": 12,
     "metadata": {},
     "output_type": "execute_result"
    }
   ],
   "source": [
    "print(len(df))\n",
    "df"
   ]
  },
  {
   "cell_type": "code",
   "execution_count": 13,
   "id": "34c67ffb",
   "metadata": {},
   "outputs": [],
   "source": [
    "u198 = df[df['source']=='u198'].groupby('date').aggregate({('weight'):np.sum}).sort_values(by = 'date', ascending = True).reset_index()"
   ]
  },
  {
   "cell_type": "code",
   "execution_count": 14,
   "id": "393a898d",
   "metadata": {},
   "outputs": [],
   "source": [
    "u198['date'] = pd.to_datetime(u198['date'], format = '%Y-%m-%d')\n",
    "r = pd.date_range(start= u198.date.min(), end = u198.date.max())\n",
    "u198 = u198.set_index('date').reindex(r, fill_value=0)#.reindex(r)#.fillna(0).rename_axis('date').reset_index()"
   ]
  },
  {
   "cell_type": "code",
   "execution_count": 15,
   "id": "a41357ce",
   "metadata": {},
   "outputs": [
    {
     "name": "stderr",
     "output_type": "stream",
     "text": [
      "/Users/mustafatelab/opt/anaconda3/envs/sps620env/lib/python3.7/site-packages/matplotlib/cbook/__init__.py:2064: FutureWarning: Support for multi-dimensional indexing (e.g. `obj[:, None]`) is deprecated and will be removed in a future version.  Convert to a numpy array before indexing instead.\n",
      "  x[:, None]\n",
      "/Users/mustafatelab/opt/anaconda3/envs/sps620env/lib/python3.7/site-packages/matplotlib/axes/_base.py:248: FutureWarning: Support for multi-dimensional indexing (e.g. `obj[:, None]`) is deprecated and will be removed in a future version.  Convert to a numpy array before indexing instead.\n",
      "  x = x[:, np.newaxis]\n",
      "/Users/mustafatelab/opt/anaconda3/envs/sps620env/lib/python3.7/site-packages/matplotlib/axes/_base.py:250: FutureWarning: Support for multi-dimensional indexing (e.g. `obj[:, None]`) is deprecated and will be removed in a future version.  Convert to a numpy array before indexing instead.\n",
      "  y = y[:, np.newaxis]\n"
     ]
    },
    {
     "data": {
      "image/png": "[encoded data removed]",
      "text/plain": [
       "<Figure size 432x288 with 1 Axes>"
      ]
     },
     "metadata": {
      "needs_background": "light"
     },
     "output_type": "display_data"
    }
   ],
   "source": [
    "plt.plot(r,pd.Series(u198['weight']).cumsum())\n",
    "plt.xticks([min(r), max(r)])\n",
    "plt.show()"
   ]
  },
  {
   "cell_type": "code",
   "execution_count": 38,
   "id": "24ce8cef",
   "metadata": {},
   "outputs": [],
   "source": [
    "df_frequency_step = df.groupby(['source','date']).aggregate({('weight'):np.sum}).sort_values('weight').reset_index()"
   ]
  },
  {
   "cell_type": "code",
   "execution_count": 40,
   "id": "7e363066",
   "metadata": {},
   "outputs": [],
   "source": [
    "df_frequency = df_frequency_step.groupby(['source']).aggregate({('weight'):np.average}).sort_values('weight').reset_index()"
   ]
  },
  {
   "cell_type": "code",
   "execution_count": 54,
   "id": "985284c8",
   "metadata": {},
   "outputs": [
    {
     "data": {
      "text/html": [
       "<div>\n",
       "<style scoped>\n",
       "    .dataframe tbody tr th:only-of-type {\n",
       "        vertical-align: middle;\n",
       "    }\n",
       "\n",
       "    .dataframe tbody tr th {\n",
       "        vertical-align: top;\n",
       "    }\n",
       "\n",
       "    .dataframe thead th {\n",
       "        text-align: right;\n",
       "    }\n",
       "</style>\n",
       "<table border=\"1\" class=\"dataframe\">\n",
       "  <thead>\n",
       "    <tr style=\"text-align: right;\">\n",
       "      <th></th>\n",
       "      <th>source</th>\n",
       "      <th>frequency</th>\n",
       "    </tr>\n",
       "  </thead>\n",
       "  <tbody>\n",
       "    <tr>\n",
       "      <th>0</th>\n",
       "      <td>u9999</td>\n",
       "      <td>1.000000</td>\n",
       "    </tr>\n",
       "    <tr>\n",
       "      <th>1</th>\n",
       "      <td>u23084</td>\n",
       "      <td>1.000000</td>\n",
       "    </tr>\n",
       "    <tr>\n",
       "      <th>2</th>\n",
       "      <td>u23086</td>\n",
       "      <td>1.000000</td>\n",
       "    </tr>\n",
       "    <tr>\n",
       "      <th>3</th>\n",
       "      <td>u23088</td>\n",
       "      <td>1.000000</td>\n",
       "    </tr>\n",
       "    <tr>\n",
       "      <th>4</th>\n",
       "      <td>u23089</td>\n",
       "      <td>1.000000</td>\n",
       "    </tr>\n",
       "    <tr>\n",
       "      <th>...</th>\n",
       "      <td>...</td>\n",
       "      <td>...</td>\n",
       "    </tr>\n",
       "    <tr>\n",
       "      <th>29343</th>\n",
       "      <td>u232</td>\n",
       "      <td>1982.607407</td>\n",
       "    </tr>\n",
       "    <tr>\n",
       "      <th>29344</th>\n",
       "      <td>u18229</td>\n",
       "      <td>2388.636364</td>\n",
       "    </tr>\n",
       "    <tr>\n",
       "      <th>29345</th>\n",
       "      <td>u1605</td>\n",
       "      <td>4604.383178</td>\n",
       "    </tr>\n",
       "    <tr>\n",
       "      <th>29346</th>\n",
       "      <td>u724</td>\n",
       "      <td>4687.423077</td>\n",
       "    </tr>\n",
       "    <tr>\n",
       "      <th>29347</th>\n",
       "      <td>u680</td>\n",
       "      <td>13261.375000</td>\n",
       "    </tr>\n",
       "  </tbody>\n",
       "</table>\n",
       "<p>29348 rows × 2 columns</p>\n",
       "</div>"
      ],
      "text/plain": [
       "       source     frequency\n",
       "0       u9999      1.000000\n",
       "1      u23084      1.000000\n",
       "2      u23086      1.000000\n",
       "3      u23088      1.000000\n",
       "4      u23089      1.000000\n",
       "...       ...           ...\n",
       "29343    u232   1982.607407\n",
       "29344  u18229   2388.636364\n",
       "29345   u1605   4604.383178\n",
       "29346    u724   4687.423077\n",
       "29347    u680  13261.375000\n",
       "\n",
       "[29348 rows x 2 columns]"
      ]
     },
     "execution_count": 54,
     "metadata": {},
     "output_type": "execute_result"
    }
   ],
   "source": [
    "df_frequency.columns = ['source', 'frequency']\n",
    "df_frequency"
   ]
  },
  {
   "cell_type": "code",
   "execution_count": 47,
   "id": "53c5fe4f",
   "metadata": {},
   "outputs": [
    {
     "name": "stderr",
     "output_type": "stream",
     "text": [
      "/Users/mustafatelab/opt/anaconda3/envs/sps620env/lib/python3.7/site-packages/pandas/core/indexes/range.py:780: FutureWarning: Support for multi-dimensional indexing (e.g. `obj[:, None]`) is deprecated and will be removed in a future version.  Convert to a numpy array before indexing instead.\n",
      "  return super().__getitem__(key)\n"
     ]
    },
    {
     "data": {
      "image/png": "[encoded data removed]",
      "text/plain": [
       "<Figure size 432x288 with 1 Axes>"
      ]
     },
     "metadata": {
      "needs_background": "light"
     },
     "output_type": "display_data"
    }
   ],
   "source": [
    "plt.plot(df_frequency.index, df_frequency.weight)\n",
    "plt.show()"
   ]
  },
  {
   "cell_type": "code",
   "execution_count": 66,
   "id": "633a9134",
   "metadata": {},
   "outputs": [],
   "source": [
    "df_grouped = df.groupby(['source','target']).aggregate({('weight'):np.sum}).reset_index()\n",
    "#,('date'):np.average,('month'):np.average"
   ]
  },
  {
   "cell_type": "code",
   "execution_count": 67,
   "id": "62b06802",
   "metadata": {},
   "outputs": [],
   "source": [
    "u_count = df_grouped['source'].value_counts(ascending=True).rename_axis('source').reset_index(name='pages')\n",
    "p_count = df_grouped['target'].value_counts(ascending=True).rename_axis('target').reset_index(name='users')"
   ]
  },
  {
   "cell_type": "code",
   "execution_count": 68,
   "id": "4f54cda5",
   "metadata": {},
   "outputs": [
    {
     "data": {
      "text/html": [
       "<div>\n",
       "<style scoped>\n",
       "    .dataframe tbody tr th:only-of-type {\n",
       "        vertical-align: middle;\n",
       "    }\n",
       "\n",
       "    .dataframe tbody tr th {\n",
       "        vertical-align: top;\n",
       "    }\n",
       "\n",
       "    .dataframe thead th {\n",
       "        text-align: right;\n",
       "    }\n",
       "</style>\n",
       "<table border=\"1\" class=\"dataframe\">\n",
       "  <thead>\n",
       "    <tr style=\"text-align: right;\">\n",
       "      <th></th>\n",
       "      <th>target</th>\n",
       "      <th>users</th>\n",
       "    </tr>\n",
       "  </thead>\n",
       "  <tbody>\n",
       "    <tr>\n",
       "      <th>0</th>\n",
       "      <td>p1135135</td>\n",
       "      <td>1</td>\n",
       "    </tr>\n",
       "    <tr>\n",
       "      <th>1</th>\n",
       "      <td>p1881114</td>\n",
       "      <td>1</td>\n",
       "    </tr>\n",
       "    <tr>\n",
       "      <th>2</th>\n",
       "      <td>p1675078</td>\n",
       "      <td>1</td>\n",
       "    </tr>\n",
       "    <tr>\n",
       "      <th>3</th>\n",
       "      <td>p1243204</td>\n",
       "      <td>1</td>\n",
       "    </tr>\n",
       "    <tr>\n",
       "      <th>4</th>\n",
       "      <td>p1817092</td>\n",
       "      <td>1</td>\n",
       "    </tr>\n",
       "    <tr>\n",
       "      <th>...</th>\n",
       "      <td>...</td>\n",
       "      <td>...</td>\n",
       "    </tr>\n",
       "    <tr>\n",
       "      <th>2094515</th>\n",
       "      <td>p117268</td>\n",
       "      <td>640</td>\n",
       "    </tr>\n",
       "    <tr>\n",
       "      <th>2094516</th>\n",
       "      <td>p183627</td>\n",
       "      <td>663</td>\n",
       "    </tr>\n",
       "    <tr>\n",
       "      <th>2094517</th>\n",
       "      <td>p590</td>\n",
       "      <td>710</td>\n",
       "    </tr>\n",
       "    <tr>\n",
       "      <th>2094518</th>\n",
       "      <td>p348358</td>\n",
       "      <td>826</td>\n",
       "    </tr>\n",
       "    <tr>\n",
       "      <th>2094519</th>\n",
       "      <td>p1148</td>\n",
       "      <td>916</td>\n",
       "    </tr>\n",
       "  </tbody>\n",
       "</table>\n",
       "<p>2094520 rows × 2 columns</p>\n",
       "</div>"
      ],
      "text/plain": [
       "           target  users\n",
       "0        p1135135      1\n",
       "1        p1881114      1\n",
       "2        p1675078      1\n",
       "3        p1243204      1\n",
       "4        p1817092      1\n",
       "...           ...    ...\n",
       "2094515   p117268    640\n",
       "2094516   p183627    663\n",
       "2094517      p590    710\n",
       "2094518   p348358    826\n",
       "2094519     p1148    916\n",
       "\n",
       "[2094520 rows x 2 columns]"
      ]
     },
     "execution_count": 68,
     "metadata": {},
     "output_type": "execute_result"
    }
   ],
   "source": [
    "p_count"
   ]
  },
  {
   "cell_type": "code",
   "execution_count": 69,
   "id": "36059e74",
   "metadata": {},
   "outputs": [
    {
     "data": {
      "text/html": [
       "<div>\n",
       "<style scoped>\n",
       "    .dataframe tbody tr th:only-of-type {\n",
       "        vertical-align: middle;\n",
       "    }\n",
       "\n",
       "    .dataframe tbody tr th {\n",
       "        vertical-align: top;\n",
       "    }\n",
       "\n",
       "    .dataframe thead th {\n",
       "        text-align: right;\n",
       "    }\n",
       "</style>\n",
       "<table border=\"1\" class=\"dataframe\">\n",
       "  <thead>\n",
       "    <tr style=\"text-align: right;\">\n",
       "      <th></th>\n",
       "      <th>source</th>\n",
       "      <th>pages</th>\n",
       "    </tr>\n",
       "  </thead>\n",
       "  <tbody>\n",
       "    <tr>\n",
       "      <th>0</th>\n",
       "      <td>u14186</td>\n",
       "      <td>1</td>\n",
       "    </tr>\n",
       "    <tr>\n",
       "      <th>1</th>\n",
       "      <td>u10279</td>\n",
       "      <td>1</td>\n",
       "    </tr>\n",
       "    <tr>\n",
       "      <th>2</th>\n",
       "      <td>u22334</td>\n",
       "      <td>1</td>\n",
       "    </tr>\n",
       "    <tr>\n",
       "      <th>3</th>\n",
       "      <td>u17995</td>\n",
       "      <td>1</td>\n",
       "    </tr>\n",
       "    <tr>\n",
       "      <th>4</th>\n",
       "      <td>u12032</td>\n",
       "      <td>1</td>\n",
       "    </tr>\n",
       "    <tr>\n",
       "      <th>...</th>\n",
       "      <td>...</td>\n",
       "      <td>...</td>\n",
       "    </tr>\n",
       "    <tr>\n",
       "      <th>29343</th>\n",
       "      <td>u680</td>\n",
       "      <td>212041</td>\n",
       "    </tr>\n",
       "    <tr>\n",
       "      <th>29344</th>\n",
       "      <td>u232</td>\n",
       "      <td>220085</td>\n",
       "    </tr>\n",
       "    <tr>\n",
       "      <th>29345</th>\n",
       "      <td>u193</td>\n",
       "      <td>351338</td>\n",
       "    </tr>\n",
       "    <tr>\n",
       "      <th>29346</th>\n",
       "      <td>u845</td>\n",
       "      <td>472296</td>\n",
       "    </tr>\n",
       "    <tr>\n",
       "      <th>29347</th>\n",
       "      <td>u198</td>\n",
       "      <td>699170</td>\n",
       "    </tr>\n",
       "  </tbody>\n",
       "</table>\n",
       "<p>29348 rows × 2 columns</p>\n",
       "</div>"
      ],
      "text/plain": [
       "       source   pages\n",
       "0      u14186       1\n",
       "1      u10279       1\n",
       "2      u22334       1\n",
       "3      u17995       1\n",
       "4      u12032       1\n",
       "...       ...     ...\n",
       "29343    u680  212041\n",
       "29344    u232  220085\n",
       "29345    u193  351338\n",
       "29346    u845  472296\n",
       "29347    u198  699170\n",
       "\n",
       "[29348 rows x 2 columns]"
      ]
     },
     "execution_count": 69,
     "metadata": {},
     "output_type": "execute_result"
    }
   ],
   "source": [
    "u_count"
   ]
  },
  {
   "cell_type": "code",
   "execution_count": 70,
   "id": "55a7a3de",
   "metadata": {},
   "outputs": [],
   "source": [
    "df_grouped = pd.merge(df_grouped, u_count, how=\"left\", on=\"source\")\n",
    "df_grouped = pd.merge(df_grouped, p_count, how=\"left\", on=\"target\")\n",
    "df_grouped = pd.merge(df_grouped, df_frequency, how=\"left\", on=\"source\")"
   ]
  },
  {
   "cell_type": "code",
   "execution_count": 93,
   "id": "2b367fca",
   "metadata": {},
   "outputs": [
    {
     "name": "stdout",
     "output_type": "stream",
     "text": [
      "Pages Per User Statisitics\n",
      "count     29348.00\n",
      "mean        189.89\n",
      "std        6118.84\n",
      "min           1.00\n",
      "25%           1.00\n",
      "50%           1.00\n",
      "75%           3.00\n",
      "max      699170.00\n",
      "Name: pages, dtype: float64 \n",
      "\n",
      "Users Per Page Statisitics\n",
      "count    2094520.00\n",
      "mean           2.66\n",
      "std            4.06\n",
      "min            1.00\n",
      "25%            1.00\n",
      "50%            2.00\n",
      "75%            3.00\n",
      "max          916.00\n",
      "Name: users, dtype: float64 \n",
      "\n",
      "Pages Per User Statisitics\n",
      "count    29348.00\n",
      "mean         4.75\n",
      "std         91.37\n",
      "min          1.00\n",
      "25%          1.00\n",
      "50%          1.50\n",
      "75%          3.00\n",
      "max      13261.38\n",
      "Name: frequency, dtype: float64\n"
     ]
    }
   ],
   "source": [
    "print('Pages Per User Statisitics')\n",
    "user_stats = u_count[\"pages\"].describe().round(2)\n",
    "print(user_stats, '\\n')\n",
    "print('Users Per Page Statisitics')\n",
    "page_stats = p_count[\"users\"].describe().round(2)\n",
    "print(page_stats, '\\n')\n",
    "print('Pages Per User Statisitics')\n",
    "freq_stats = df_frequency[\"frequency\"].describe().round(2)\n",
    "print(freq_stats)"
   ]
  },
  {
   "cell_type": "code",
   "execution_count": 72,
   "id": "897f2580",
   "metadata": {},
   "outputs": [
    {
     "data": {
      "image/png": "[encoded data removed]",
      "text/plain": [
       "<Figure size 432x288 with 1 Axes>"
      ]
     },
     "metadata": {
      "needs_background": "light"
     },
     "output_type": "display_data"
    }
   ],
   "source": [
    "plt.hist(u_count['pages'], bins = 10)\n",
    "plt.title('Pages Per User Statisitics')\n",
    "plt.yscale('log')"
   ]
  },
  {
   "cell_type": "code",
   "execution_count": 73,
   "id": "82678bec",
   "metadata": {},
   "outputs": [
    {
     "data": {
      "image/png": "[encoded data removed]",
      "text/plain": [
       "<Figure size 432x288 with 1 Axes>"
      ]
     },
     "metadata": {
      "needs_background": "light"
     },
     "output_type": "display_data"
    }
   ],
   "source": [
    "plt.hist(p_count['users'], bins = 30)\n",
    "plt.title('Users Per Page Statisitics')\n",
    "plt.yscale('log')"
   ]
  },
  {
   "cell_type": "code",
   "execution_count": 74,
   "id": "2137efbd",
   "metadata": {},
   "outputs": [
    {
     "name": "stdout",
     "output_type": "stream",
     "text": [
      "5573038\n",
      "  source target  weight  pages  users  frequency\n",
      "0     u1     p1       3     38    106        8.0\n",
      "1     u1   p103       2     38     23        8.0\n",
      "2     u1   p108       2     38     54        8.0\n",
      "3     u1   p109       2     38     35        8.0\n",
      "4     u1   p111       9     38     61        8.0\n"
     ]
    }
   ],
   "source": [
    "print(len(df_grouped))\n",
    "print(df_grouped.head())"
   ]
  },
  {
   "cell_type": "code",
   "execution_count": 98,
   "id": "8e52981b",
   "metadata": {},
   "outputs": [
    {
     "data": {
      "text/plain": [
       "1874908"
      ]
     },
     "execution_count": 98,
     "metadata": {},
     "output_type": "execute_result"
    }
   ],
   "source": [
    "freq_std = freq_stats['std']\n",
    "user_min = user_stats['75%']\n",
    "page_min = page_stats['75%']\n",
    "df_island = df_grouped[(df_grouped['pages']>user_min)  & (df_grouped['users']>page_min) & (df_grouped['frequency'] < (freq_std * 5))]\n",
    "len(df_island)"
   ]
  },
  {
   "cell_type": "code",
   "execution_count": 99,
   "id": "d88d1569",
   "metadata": {},
   "outputs": [
    {
     "data": {
      "text/html": [
       "<div>\n",
       "<style scoped>\n",
       "    .dataframe tbody tr th:only-of-type {\n",
       "        vertical-align: middle;\n",
       "    }\n",
       "\n",
       "    .dataframe tbody tr th {\n",
       "        vertical-align: top;\n",
       "    }\n",
       "\n",
       "    .dataframe thead th {\n",
       "        text-align: right;\n",
       "    }\n",
       "</style>\n",
       "<table border=\"1\" class=\"dataframe\">\n",
       "  <thead>\n",
       "    <tr style=\"text-align: right;\">\n",
       "      <th></th>\n",
       "      <th>source</th>\n",
       "      <th>target</th>\n",
       "      <th>weight</th>\n",
       "      <th>pages</th>\n",
       "      <th>users</th>\n",
       "      <th>frequency</th>\n",
       "    </tr>\n",
       "  </thead>\n",
       "  <tbody>\n",
       "    <tr>\n",
       "      <th>0</th>\n",
       "      <td>u1</td>\n",
       "      <td>p1</td>\n",
       "      <td>3</td>\n",
       "      <td>38</td>\n",
       "      <td>106</td>\n",
       "      <td>8.000000</td>\n",
       "    </tr>\n",
       "    <tr>\n",
       "      <th>1</th>\n",
       "      <td>u1</td>\n",
       "      <td>p103</td>\n",
       "      <td>2</td>\n",
       "      <td>38</td>\n",
       "      <td>23</td>\n",
       "      <td>8.000000</td>\n",
       "    </tr>\n",
       "    <tr>\n",
       "      <th>2</th>\n",
       "      <td>u1</td>\n",
       "      <td>p108</td>\n",
       "      <td>2</td>\n",
       "      <td>38</td>\n",
       "      <td>54</td>\n",
       "      <td>8.000000</td>\n",
       "    </tr>\n",
       "    <tr>\n",
       "      <th>3</th>\n",
       "      <td>u1</td>\n",
       "      <td>p109</td>\n",
       "      <td>2</td>\n",
       "      <td>38</td>\n",
       "      <td>35</td>\n",
       "      <td>8.000000</td>\n",
       "    </tr>\n",
       "    <tr>\n",
       "      <th>4</th>\n",
       "      <td>u1</td>\n",
       "      <td>p111</td>\n",
       "      <td>9</td>\n",
       "      <td>38</td>\n",
       "      <td>61</td>\n",
       "      <td>8.000000</td>\n",
       "    </tr>\n",
       "    <tr>\n",
       "      <th>...</th>\n",
       "      <td>...</td>\n",
       "      <td>...</td>\n",
       "      <td>...</td>\n",
       "      <td>...</td>\n",
       "      <td>...</td>\n",
       "      <td>...</td>\n",
       "    </tr>\n",
       "    <tr>\n",
       "      <th>5573028</th>\n",
       "      <td>u9997</td>\n",
       "      <td>p117515</td>\n",
       "      <td>1</td>\n",
       "      <td>8</td>\n",
       "      <td>11</td>\n",
       "      <td>1.285714</td>\n",
       "    </tr>\n",
       "    <tr>\n",
       "      <th>5573031</th>\n",
       "      <td>u9997</td>\n",
       "      <td>p1442294</td>\n",
       "      <td>2</td>\n",
       "      <td>8</td>\n",
       "      <td>6</td>\n",
       "      <td>1.285714</td>\n",
       "    </tr>\n",
       "    <tr>\n",
       "      <th>5573033</th>\n",
       "      <td>u9997</td>\n",
       "      <td>p268672</td>\n",
       "      <td>1</td>\n",
       "      <td>8</td>\n",
       "      <td>4</td>\n",
       "      <td>1.285714</td>\n",
       "    </tr>\n",
       "    <tr>\n",
       "      <th>5573034</th>\n",
       "      <td>u9997</td>\n",
       "      <td>p35539</td>\n",
       "      <td>1</td>\n",
       "      <td>8</td>\n",
       "      <td>46</td>\n",
       "      <td>1.285714</td>\n",
       "    </tr>\n",
       "    <tr>\n",
       "      <th>5573035</th>\n",
       "      <td>u9997</td>\n",
       "      <td>p451233</td>\n",
       "      <td>1</td>\n",
       "      <td>8</td>\n",
       "      <td>8</td>\n",
       "      <td>1.285714</td>\n",
       "    </tr>\n",
       "  </tbody>\n",
       "</table>\n",
       "<p>1874908 rows × 6 columns</p>\n",
       "</div>"
      ],
      "text/plain": [
       "        source    target  weight  pages  users  frequency\n",
       "0           u1        p1       3     38    106   8.000000\n",
       "1           u1      p103       2     38     23   8.000000\n",
       "2           u1      p108       2     38     54   8.000000\n",
       "3           u1      p109       2     38     35   8.000000\n",
       "4           u1      p111       9     38     61   8.000000\n",
       "...        ...       ...     ...    ...    ...        ...\n",
       "5573028  u9997   p117515       1      8     11   1.285714\n",
       "5573031  u9997  p1442294       2      8      6   1.285714\n",
       "5573033  u9997   p268672       1      8      4   1.285714\n",
       "5573034  u9997    p35539       1      8     46   1.285714\n",
       "5573035  u9997   p451233       1      8      8   1.285714\n",
       "\n",
       "[1874908 rows x 6 columns]"
      ]
     },
     "execution_count": 99,
     "metadata": {},
     "output_type": "execute_result"
    }
   ],
   "source": [
    "df_island"
   ]
  },
  {
   "cell_type": "code",
   "execution_count": 101,
   "id": "c97d3788",
   "metadata": {},
   "outputs": [],
   "source": [
    "S = nx.from_pandas_edgelist(df_island, source='source', target='target', edge_attr=[\"weight\"], create_using = nx.DiGraph(), edge_key=None)"
   ]
  },
  {
   "cell_type": "code",
   "execution_count": 102,
   "id": "d3e6eeb0",
   "metadata": {},
   "outputs": [
    {
     "name": "stdout",
     "output_type": "stream",
     "text": [
      "Name: \n",
      "Type: DiGraph\n",
      "Number of nodes: 325978\n",
      "Number of edges: 1874908\n",
      "Average in degree:   5.7516\n",
      "Average out degree:   5.7516\n"
     ]
    }
   ],
   "source": [
    "print(nx.info(S))"
   ]
  },
  {
   "cell_type": "code",
   "execution_count": 103,
   "id": "05cdaeda",
   "metadata": {},
   "outputs": [
    {
     "data": {
      "text/plain": [
       "1"
      ]
     },
     "execution_count": 103,
     "metadata": {},
     "output_type": "execute_result"
    }
   ],
   "source": [
    "len(list(nx.connected_components(S.to_undirected())))"
   ]
  },
  {
   "cell_type": "code",
   "execution_count": 104,
   "id": "c985f9bf",
   "metadata": {},
   "outputs": [],
   "source": [
    "users = [v for v in S.nodes() if v[0]== 'u']"
   ]
  },
  {
   "cell_type": "code",
   "execution_count": 105,
   "id": "e89714b8",
   "metadata": {},
   "outputs": [
    {
     "data": {
      "text/plain": [
       "6973"
      ]
     },
     "execution_count": 105,
     "metadata": {},
     "output_type": "execute_result"
    }
   ],
   "source": [
    "len(users)"
   ]
  },
  {
   "cell_type": "code",
   "execution_count": 106,
   "id": "53c60e9d",
   "metadata": {},
   "outputs": [],
   "source": [
    "U = bipartite.projected_graph(S.to_undirected(), users)"
   ]
  },
  {
   "cell_type": "code",
   "execution_count": 107,
   "id": "9e5e0f09",
   "metadata": {},
   "outputs": [
    {
     "name": "stdout",
     "output_type": "stream",
     "text": [
      "Name: \n",
      "Type: Graph\n",
      "Number of nodes: 6973\n",
      "Number of edges: 1709689\n",
      "Average degree: 490.3740\n"
     ]
    }
   ],
   "source": [
    "print(nx.info(U))"
   ]
  },
  {
   "cell_type": "code",
   "execution_count": 109,
   "id": "0e292973",
   "metadata": {},
   "outputs": [
    {
     "data": {
      "text/plain": [
       "False"
      ]
     },
     "execution_count": 109,
     "metadata": {},
     "output_type": "execute_result"
    }
   ],
   "source": [
    "nx.is_bipartite(U)"
   ]
  },
  {
   "cell_type": "code",
   "execution_count": 110,
   "id": "9075f36d",
   "metadata": {},
   "outputs": [
    {
     "data": {
      "image/png": "[encoded data removed]",
      "text/plain": [
       "<Figure size 432x288 with 1 Axes>"
      ]
     },
     "metadata": {},
     "output_type": "display_data"
    }
   ],
   "source": [
    "nx.draw(U)"
   ]
  },
  {
   "cell_type": "code",
   "execution_count": 124,
   "id": "c6818c9d",
   "metadata": {},
   "outputs": [
    {
     "data": {
      "text/plain": [
       "(array([3.473e+03, 1.025e+03, 8.670e+02, 5.370e+02, 2.840e+02, 1.680e+02,\n",
       "        1.340e+02, 1.020e+02, 7.000e+01, 4.500e+01, 5.200e+01, 3.000e+01,\n",
       "        2.600e+01, 2.000e+01, 1.600e+01, 1.900e+01, 1.700e+01, 1.900e+01,\n",
       "        1.200e+01, 1.100e+01, 5.000e+00, 6.000e+00, 7.000e+00, 1.100e+01,\n",
       "        6.000e+00, 2.000e+00, 2.000e+00, 3.000e+00, 1.000e+00, 3.000e+00]),\n",
       " array([1.0000e+00, 2.1730e+02, 4.3360e+02, 6.4990e+02, 8.6620e+02,\n",
       "        1.0825e+03, 1.2988e+03, 1.5151e+03, 1.7314e+03, 1.9477e+03,\n",
       "        2.1640e+03, 2.3803e+03, 2.5966e+03, 2.8129e+03, 3.0292e+03,\n",
       "        3.2455e+03, 3.4618e+03, 3.6781e+03, 3.8944e+03, 4.1107e+03,\n",
       "        4.3270e+03, 4.5433e+03, 4.7596e+03, 4.9759e+03, 5.1922e+03,\n",
       "        5.4085e+03, 5.6248e+03, 5.8411e+03, 6.0574e+03, 6.2737e+03,\n",
       "        6.4900e+03]),\n",
       " <a list of 30 Patch objects>)"
      ]
     },
     "execution_count": 124,
     "metadata": {},
     "output_type": "execute_result"
    },
    {
     "data": {
      "image/png": "[encoded data removed]",
      "text/plain": [
       "<Figure size 432x288 with 1 Axes>"
      ]
     },
     "metadata": {
      "needs_background": "light"
     },
     "output_type": "display_data"
    }
   ],
   "source": [
    "U_degrees = dict(U.degree()).values()\n",
    "plt.hist(U_degrees, bins = 30)"
   ]
  },
  {
   "cell_type": "code",
   "execution_count": 111,
   "id": "487b1fd1",
   "metadata": {},
   "outputs": [],
   "source": [
    "#modifiction of code clock found on Social Network Analysis for Startups, pg64 \n",
    "def trim_nodes(g, weight=1):\n",
    "    nodes = []\n",
    "    for n in g.nodes():\n",
    "        if g.degree(n) > weight:\n",
    "            nodes.append(n)\n",
    "    G2 = g.subgraph(nodes)\n",
    "    return G2"
   ]
  },
  {
   "cell_type": "code",
   "execution_count": 112,
   "id": "90576317",
   "metadata": {},
   "outputs": [
    {
     "name": "stdout",
     "output_type": "stream",
     "text": [
      "Name: \n",
      "Type: Graph\n",
      "Number of nodes: 1736\n",
      "Number of edges: 799140\n",
      "Average degree: 920.6682\n"
     ]
    }
   ],
   "source": [
    "U2 = trim_nodes(U,600)\n",
    "print(nx.info(U2))"
   ]
  },
  {
   "cell_type": "code",
   "execution_count": 125,
   "id": "638c6018",
   "metadata": {},
   "outputs": [
    {
     "data": {
      "image/png": "[encoded data removed]",
      "text/plain": [
       "<Figure size 432x288 with 1 Axes>"
      ]
     },
     "metadata": {},
     "output_type": "display_data"
    }
   ],
   "source": [
    "nx.draw(U2)"
   ]
  },
  {
   "cell_type": "code",
   "execution_count": null,
   "id": "00f3fdb0",
   "metadata": {},
   "outputs": [],
   "source": [
    "__author__ = \"\"\"\\n\"\"\".join(['Maksim Tsvetovat <maksim@tsvetovat.org',\n",
    "'Drew Conway <drew.conway@nyu.edu>',\n",
    "'Aric Hagberg <hagberg@lanl.gov>'])\n",
    "from collections import defaultdict\n",
    "import networkx as nx\n",
    "import numpy\n",
    "from scipy.cluster import hierarchy\n",
    "from scipy.spatial import distance\n",
    "import matplotlib.pyplot as plt\n",
    "\n",
    "def create_hc(G, t=1.0):\n",
    "    \"\"\"\n",
    "    Creates hierarchical cluster of graph G from distance matrix\n",
    "    Maksim Tsvetovat ->> Generalized HC pre- and post-processing to work on labelled graphs\n",
    "    and return labelled clusters\n",
    "    The threshold value is now parameterized; useful range should be determined\n",
    "    experimentally with each dataset\n",
    "    \"\"\"\n",
    "    \"\"\"Modified from code by Drew Conway\"\"\"\n",
    "    \n",
    "    ## Create a shortest-path distance matrix, while preserving node labels\n",
    "    labels=G.nodes()\n",
    "    path_length=nx.all_pairs_shortest_path_length(G)\n",
    "    distances=numpy.zeros((len(G),len(G)))\n",
    "    i=0\n",
    "    for u,p in path_length:\n",
    "        j=0\n",
    "        for v,d in p.items():\n",
    "            distances[i][j]=d\n",
    "            distances[j][i]=d\n",
    "            if i==j: distances[i][j]=0\n",
    "            j+=1\n",
    "        i+=1\n",
    "        \n",
    "    # Create hierarchical cluster\n",
    "    Y=distance.squareform(distances)\n",
    "    Z=hierarchy.complete(Y) # Creates HC using farthest point linkage\n",
    "    \n",
    "    # This partition selection is arbitrary, for illustrive purposes\n",
    "    membership=list(hierarchy.fcluster(Z,t=t))\n",
    "    \n",
    "    # Create collection of lists for blockmodel\n",
    "    partition=defaultdict(list)\n",
    "    for n,p in zip(list(range(len(G))),membership):\n",
    "        if p>=0:\n",
    "            partition[p].append(labels[n])\n",
    "    return list(partition.values())"
   ]
  },
  {
   "cell_type": "code",
   "execution_count": null,
   "id": "f9e05031",
   "metadata": {},
   "outputs": [],
   "source": [
    "clusters = create_hc(U2)"
   ]
  }
 ],
 "metadata": {
  "kernelspec": {
   "display_name": "Python 3",
   "language": "python",
   "name": "python3"
  },
  "language_info": {
   "codemirror_mode": {
    "name": "ipython",
    "version": 3
   },
   "file_extension": ".py",
   "mimetype": "text/x-python",
   "name": "python",
   "nbconvert_exporter": "python",
   "pygments_lexer": "ipython3",
   "version": "3.7.10"
  }
 },
 "nbformat": 4,
 "nbformat_minor": 5
}
