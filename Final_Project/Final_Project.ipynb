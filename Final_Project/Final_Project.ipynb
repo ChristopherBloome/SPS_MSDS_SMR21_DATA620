{
 "cells": [
  {
   "cell_type": "markdown",
   "id": "987da827-1567-4f01-806f-687b66c830b4",
   "metadata": {},
   "source": [
    "<b>Web Analytics DATA 620 - Project 01</b>\n",
    "\n",
    "<b>Assignment: “Centrality Measures”</b>\n",
    "\n",
    "<b>Group - Chris Bloome / Mustafa Telab / Vinayak Kamath</b>\n",
    "\n",
    "<b>Date - 16th July 2021</b>\n",
    "\n",
    "--- \n",
    "\n",
    "Your project should incorporate one or both of the two main themes of this course: network analysis and text processing. You need to show all of your work in a coherent workflow, and in a reproducible format, such as an IPython Notebook or an R Markdown document. If you are building a model or models, explain how you evaluate the “goodness” of the chosen model and parameters. \n"
   ]
  },
  {
   "cell_type": "markdown",
   "id": "707c847e-9c1d-4ba9-b7e0-83c62ab97742",
   "metadata": {},
   "source": [
    "---"
   ]
  },
  {
   "cell_type": "markdown",
   "id": "460459d2-0644-4a9a-8e00-82b82dff0578",
   "metadata": {},
   "source": [
    "# Proposal\n",
    "\n"
   ]
  },
  {
   "cell_type": "markdown",
   "id": "11e0c371-d95c-4d0e-ac10-1e93f1a4281a",
   "metadata": {},
   "source": [
    "For our final project we will revisit a dataset from an earlier assignment, to apply the tools and concepts we have learned since.  The data is a collection of amazon reviews for fine foods.  We want to substitute the numerical rating for a more robust sentiment analysis of the review text; ultimately comparing how the structue of the network changes, controlling for the nature of the review."
   ]
  },
  {
   "cell_type": "markdown",
   "id": "117c592a-0fec-4800-808f-8fe55a34b19b",
   "metadata": {},
   "source": [
    "The source of the data is snap.stanford.edu/data/web-Amazon.html; The csv file data includes:\n",
    "\n",
    "- product/productId\n",
    "- review/userId\n",
    "- review/profileName\n",
    "- review/helpfulness\n",
    "- review/score\n",
    "- review/time\n",
    "- review/summary\n",
    "- review/text"
   ]
  },
  {
   "cell_type": "markdown",
   "id": "a897189f-eb3a-46fb-8d61-b99e4d427676",
   "metadata": {},
   "source": [
    "<b>Analysis Plan</b>\n",
    "1. Read data into pandas dataframe.\n",
    "\n",
    "2. Conduct sentiment analysis of the review texts to assign a classification and score.\n",
    "\n",
    "3. Explore results, apply visualizations to understand the distribution of sentiment, and decide if the chosen classifications are useful or need to be redifined in step 2.\n",
    "\n",
    "4. Build a projection network for each of the classifications; while integrating the sentiment scores into the edge attributes.\n",
    "\n",
    "5. Compare centrality measures for each subgraph.  Define differences in network structure and identify important nodes for each.\n"
   ]
  },
  {
   "cell_type": "code",
   "execution_count": 1,
   "id": "7942888d",
   "metadata": {},
   "outputs": [],
   "source": [
    "import networkx as nx\n",
    "import matplotlib.pyplot as plt\n",
    "import pandas as pd\n",
    "import random\n",
    "import neo4j as neo\n",
    "from sklearn import preprocessing\n",
    "import numpy as np\n",
    "import math\n",
    "import re"
   ]
  },
  {
   "cell_type": "code",
   "execution_count": 2,
   "id": "f3a3ba67",
   "metadata": {},
   "outputs": [],
   "source": [
    "import os\n",
    "os.chdir('/Users/mustafatelab/Desktop/CUNY SPS MSDS/DATA 620 Web Analytics/SPS_MSDS_SMR21_DATA620')"
   ]
  },
  {
   "cell_type": "markdown",
   "id": "759f93c1",
   "metadata": {},
   "source": [
    "For this exercise we are pulling product amazon.com product review data from \n",
    "https://snap.stanford.edu/data/web-Amazon.html"
   ]
  },
  {
   "cell_type": "markdown",
   "id": "dbdb72dc",
   "metadata": {},
   "source": [
    "## Read Data\n"
   ]
  },
  {
   "cell_type": "code",
   "execution_count": 3,
   "id": "dde8366d",
   "metadata": {},
   "outputs": [],
   "source": [
    "#Parsing instructions provided @https://snap.stanford.edu/data/web-Amazon.html\n",
    "import gzip\n",
    "import simplejson\n",
    "\n",
    "def parse(filename):\n",
    "  f = gzip.open(filename, 'rt', encoding = 'latin 1')\n",
    "  entry = {}\n",
    "  for l in f:\n",
    "    l = l.strip()\n",
    "    colonPos = l.find(':')\n",
    "    if colonPos == -1:\n",
    "      yield entry\n",
    "      entry = {}\n",
    "      continue\n",
    "    eName = l[:colonPos]\n",
    "    rest = l[colonPos+2:]\n",
    "    entry[eName] = rest\n",
    "  yield entry"
   ]
  },
  {
   "cell_type": "markdown",
   "id": "7c2f680b",
   "metadata": {},
   "source": [
    "After parsing the raw data, we move to transform it into a pandas dataframe"
   ]
  },
  {
   "cell_type": "code",
   "execution_count": 4,
   "id": "22d4fbb0",
   "metadata": {
    "scrolled": true
   },
   "outputs": [],
   "source": [
    "raw = []\n",
    "for e in parse('Data/finefoods.txt.gz'):\n",
    "  raw.append(e)"
   ]
  },
  {
   "cell_type": "code",
   "execution_count": 5,
   "id": "99e906b2",
   "metadata": {},
   "outputs": [],
   "source": [
    "df = pd.DataFrame(raw)"
   ]
  },
  {
   "cell_type": "code",
   "execution_count": 6,
   "id": "f70e924b",
   "metadata": {},
   "outputs": [
    {
     "data": {
      "text/html": [
       "<div>\n",
       "<style scoped>\n",
       "    .dataframe tbody tr th:only-of-type {\n",
       "        vertical-align: middle;\n",
       "    }\n",
       "\n",
       "    .dataframe tbody tr th {\n",
       "        vertical-align: top;\n",
       "    }\n",
       "\n",
       "    .dataframe thead th {\n",
       "        text-align: right;\n",
       "    }\n",
       "</style>\n",
       "<table border=\"1\" class=\"dataframe\">\n",
       "  <thead>\n",
       "    <tr style=\"text-align: right;\">\n",
       "      <th></th>\n",
       "      <th>product/productId</th>\n",
       "      <th>review/userId</th>\n",
       "      <th>review/profileName</th>\n",
       "      <th>review/helpfulness</th>\n",
       "      <th>review/score</th>\n",
       "      <th>review/time</th>\n",
       "      <th>review/summary</th>\n",
       "      <th>review/text</th>\n",
       "    </tr>\n",
       "  </thead>\n",
       "  <tbody>\n",
       "    <tr>\n",
       "      <th>count</th>\n",
       "      <td>568454</td>\n",
       "      <td>568454</td>\n",
       "      <td>568454</td>\n",
       "      <td>568454</td>\n",
       "      <td>568454</td>\n",
       "      <td>568454</td>\n",
       "      <td>568454</td>\n",
       "      <td>568454</td>\n",
       "    </tr>\n",
       "    <tr>\n",
       "      <th>unique</th>\n",
       "      <td>74258</td>\n",
       "      <td>256059</td>\n",
       "      <td>218418</td>\n",
       "      <td>1571</td>\n",
       "      <td>5</td>\n",
       "      <td>3168</td>\n",
       "      <td>295744</td>\n",
       "      <td>393579</td>\n",
       "    </tr>\n",
       "    <tr>\n",
       "      <th>top</th>\n",
       "      <td>B007JFMH8M</td>\n",
       "      <td>A3OXHLG6DIBRW8</td>\n",
       "      <td>C. F. Hill \"CFH\"</td>\n",
       "      <td>0/0</td>\n",
       "      <td>5.0</td>\n",
       "      <td>1350345600</td>\n",
       "      <td>Delicious!</td>\n",
       "      <td>This review will make me sound really stupid, ...</td>\n",
       "    </tr>\n",
       "    <tr>\n",
       "      <th>freq</th>\n",
       "      <td>913</td>\n",
       "      <td>448</td>\n",
       "      <td>451</td>\n",
       "      <td>270052</td>\n",
       "      <td>363122</td>\n",
       "      <td>1143</td>\n",
       "      <td>2462</td>\n",
       "      <td>199</td>\n",
       "    </tr>\n",
       "  </tbody>\n",
       "</table>\n",
       "</div>"
      ],
      "text/plain": [
       "       product/productId   review/userId review/profileName  \\\n",
       "count             568454          568454             568454   \n",
       "unique             74258          256059             218418   \n",
       "top           B007JFMH8M  A3OXHLG6DIBRW8   C. F. Hill \"CFH\"   \n",
       "freq                 913             448                451   \n",
       "\n",
       "       review/helpfulness review/score review/time review/summary  \\\n",
       "count              568454       568454      568454         568454   \n",
       "unique               1571            5        3168         295744   \n",
       "top                   0/0          5.0  1350345600     Delicious!   \n",
       "freq               270052       363122        1143           2462   \n",
       "\n",
       "                                              review/text  \n",
       "count                                              568454  \n",
       "unique                                             393579  \n",
       "top     This review will make me sound really stupid, ...  \n",
       "freq                                                  199  "
      ]
     },
     "execution_count": 6,
     "metadata": {},
     "output_type": "execute_result"
    }
   ],
   "source": [
    "df.describe()"
   ]
  },
  {
   "cell_type": "markdown",
   "id": "b7a3fa30",
   "metadata": {},
   "source": [
    "## Sentiment Analysis\n"
   ]
  },
  {
   "cell_type": "markdown",
   "id": "70536aac",
   "metadata": {},
   "source": [
    "## EDA\n"
   ]
  },
  {
   "cell_type": "markdown",
   "id": "0cf8387c",
   "metadata": {},
   "source": [
    "## Graphs\n"
   ]
  },
  {
   "cell_type": "markdown",
   "id": "abc7fa37",
   "metadata": {},
   "source": [
    "## Comparison\n"
   ]
  },
  {
   "cell_type": "markdown",
   "id": "60052823",
   "metadata": {},
   "source": [
    "## Conclusion"
   ]
  },
  {
   "cell_type": "markdown",
   "id": "7e2782f8-bd35-4ee5-960f-fd731a2fcb6a",
   "metadata": {},
   "source": [
    "---"
   ]
  },
  {
   "cell_type": "markdown",
   "id": "039eaefc-eaeb-4511-9afa-0e8034d8f8c4",
   "metadata": {},
   "source": [
    "<b>Citation: </b> \n"
   ]
  },
  {
   "cell_type": "markdown",
   "id": "269485f3-24d5-4f80-816c-75ddff5f54f9",
   "metadata": {},
   "source": [
    "---"
   ]
  },
  {
   "cell_type": "markdown",
   "id": "86fcce2b-3643-4ff6-bff0-56b78b62a2e7",
   "metadata": {},
   "source": [
    "<b>Additional Resources: </b> \n"
   ]
  },
  {
   "cell_type": "code",
   "execution_count": null,
   "id": "9102131a",
   "metadata": {},
   "outputs": [],
   "source": []
  }
 ],
 "metadata": {
  "kernelspec": {
   "display_name": "Python 3",
   "language": "python",
   "name": "python3"
  },
  "language_info": {
   "codemirror_mode": {
    "name": "ipython",
    "version": 3
   },
   "file_extension": ".py",
   "mimetype": "text/x-python",
   "name": "python",
   "nbconvert_exporter": "python",
   "pygments_lexer": "ipython3",
   "version": "3.7.10"
  }
 },
 "nbformat": 4,
 "nbformat_minor": 5
}
